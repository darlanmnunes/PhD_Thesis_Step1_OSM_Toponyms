{
  "cells": [
    {
      "cell_type": "markdown",
      "metadata": {},
      "source": [
        "## Jupyter notebook 03: This notebook retrieves TagInfo data and generate a TreeMap"
      ]
    },
    {
      "cell_type": "markdown",
      "metadata": {
        "id": "msdau9UXRVI0"
      },
      "source": [
        "***Paper: Collaborative Toponyms in OpenStreetMap: an open-source framework to investigate the relationship with intrinsic quality parameters***"
      ]
    },
    {
      "cell_type": "markdown",
      "metadata": {
        "id": "4_Hl96SfGJgH"
      },
      "source": [
        "**Aims**\n",
        "\n",
        "- This notebook retrieves TagInfo data for Brazil and generate a TreeMap\n"
      ]
    },
    {
      "cell_type": "markdown",
      "metadata": {
        "id": "MUXsvAyM0G-r"
      },
      "source": [
        "### Set the root directory"
      ]
    },
    {
      "cell_type": "code",
      "execution_count": 1,
      "metadata": {},
      "outputs": [],
      "source": [
        "# Sets the root directory of the project as the working directory\n",
        "import os\n",
        "os.chdir('..')"
      ]
    },
    {
      "cell_type": "code",
      "execution_count": null,
      "metadata": {},
      "outputs": [],
      "source": [
        "# Get current working directory\n",
        "os.getcwd()"
      ]
    },
    {
      "cell_type": "markdown",
      "metadata": {},
      "source": [
        "### Requests data to API TagInfo, processes and saves the data.\n",
        "\n",
        "- This script is responsible for collecting key combinations from the Taginfo API for Brazil, with incremental updates and checkpointing to handle large datasets efficiently."
      ]
    },
    {
      "cell_type": "markdown",
      "metadata": {},
      "source": [
        "[taginfo API](https://taginfo.geofabrik.de/south-america:brazil/taginfo/apidoc)"
      ]
    },
    {
      "cell_type": "code",
      "execution_count": null,
      "metadata": {},
      "outputs": [],
      "source": [
        "# Implements a script to collect key combinations from the Taginfo API for Brazil,\n",
        "# with incremental updates and checkpointing to handle large datasets efficiently.\n",
        "\n",
        "# Import necessary libraries\n",
        "from pathlib import Path\n",
        "import pandas as pd\n",
        "import time\n",
        "import requests\n",
        "from tqdm.notebook import tqdm\n",
        "\n",
        "# === CONFIGURAÇÕES GERAIS ===\n",
        "output_dir = Path(\"results/0_taginfo\")\n",
        "output_dir.mkdir(parents=True, exist_ok=True)\n",
        "key = \"name\"\n",
        "base_url = \"https://taginfo.geofabrik.de/south-america:brazil/api/4/key/combinations\"\n",
        "per_page = 100\n",
        "sortname = \"together_count\"\n",
        "sortorder = \"desc\"\n",
        "\n",
        "# Arquivos auxiliares\n",
        "partial_csv_path = output_dir / f\"combinacoes_{key}_brasil_partial.csv\"\n",
        "final_csv_template = output_dir / f\"combinacoes_{key}_brasil_taginfo_{'{date_until}'}.csv\"\n",
        "ultimo_lote_path = output_dir / f\"combinacoes_{key}_brasil_lastpage.txt\"\n",
        "\n",
        "# === CHECA CHECKPOINT ===\n",
        "if partial_csv_path.exists():\n",
        "    df_partial = pd.read_csv(partial_csv_path)\n",
        "    last_page = df_partial[\"page\"].max() if \"page\" in df_partial.columns else 0\n",
        "    print(f\"[Checkpoint] Retomando da página {last_page + 1}\")\n",
        "else:\n",
        "    last_page = 0\n",
        "    print(\"[Checkpoint] Nenhum progresso anterior encontrado, começando do início.\")\n",
        "\n",
        "# === PEGA O TOTAL DE REGISTROS/PÁGINAS E DATA ===\n",
        "params_inicial = {\n",
        "    \"key\": key,\n",
        "    \"page\": 1,\n",
        "    \"rp\": per_page,\n",
        "    \"sortname\": sortname,\n",
        "    \"sortorder\": sortorder\n",
        "}\n",
        "resp = requests.get(base_url, params=params_inicial)\n",
        "if resp.status_code != 200:\n",
        "    raise Exception(\"Erro ao acessar a primeira página da API.\")\n",
        "\n",
        "result = resp.json()\n",
        "total_registros = result.get(\"total\", 0)\n",
        "data_until = result.get(\"data_until\", \"data_desconhecida\").replace(\":\", \"-\")\n",
        "total_paginas = (total_registros // per_page) + (1 if total_registros % per_page > 0 else 0)\n",
        "print(f\"Total estimado de registros: {total_registros}, páginas: {total_paginas}, data_taginfo: {data_until}\")\n",
        "\n",
        "# === COLETA INCREMENTAL COM CHECKPOINT ===\n",
        "for page in tqdm(range(last_page + 1, total_paginas + 1), desc=\"Coletando páginas\"):\n",
        "    params = {\n",
        "        \"key\": key,\n",
        "        \"page\": page,\n",
        "        \"rp\": per_page,\n",
        "        \"sortname\": sortname,\n",
        "        \"sortorder\": sortorder\n",
        "    }\n",
        "    try:\n",
        "        resp = requests.get(base_url, params=params, timeout=30)\n",
        "    except Exception as e:\n",
        "        print(f\"Erro de conexão na página {page}: {e}\")\n",
        "        break\n",
        "    if resp.status_code != 200:\n",
        "        print(f\"Erro na página {page}: {resp.status_code}\")\n",
        "        break\n",
        "    result = resp.json()\n",
        "    data = result.get(\"data\", [])\n",
        "    if not data:\n",
        "        break\n",
        "    # Inclui a coluna 'page' para rastreio e reprocessamento\n",
        "    df_page = pd.DataFrame([{\n",
        "        'other_key': item.get('other_key'),\n",
        "        'together_count': item.get('together_count'),\n",
        "        'to_fraction': item.get('to_fraction'),\n",
        "        'from_fraction': item.get('from_fraction'),\n",
        "        'page': page\n",
        "    } for item in data])\n",
        "    header = not partial_csv_path.exists() or (page == 1 and last_page == 0)\n",
        "    df_page.to_csv(partial_csv_path, mode='a', header=header, index=False)\n",
        "    # Atualiza o checkpoint (última página)\n",
        "    with open(ultimo_lote_path, 'w') as f:\n",
        "        f.write(str(page))\n",
        "    time.sleep(0.2)\n",
        "\n",
        "# === CONSOLIDAÇÃO FINAL ===\n",
        "if partial_csv_path.exists():\n",
        "    df = pd.read_csv(partial_csv_path)\n",
        "    df = df.drop(columns=[\"page\"])\n",
        "    df = df.drop_duplicates()\n",
        "    df = df.sort_values(by=\"together_count\", ascending=False)\n",
        "    final_csv_path = str(final_csv_template).format(date_until=data_until)\n",
        "    df.to_csv(final_csv_path, index=False)\n",
        "    print(f\"Arquivo CSV FINAL salvo em {final_csv_path} ({len(df)} linhas).\")\n",
        "    display(df.head(10))\n",
        "else:\n",
        "    print(\"Não foi possível salvar o arquivo incremental.\")\n"
      ]
    },
    {
      "cell_type": "markdown",
      "metadata": {},
      "source": [
        "#### v1\n",
        " - This first version retrieves data from TagInfoAPI without saving incrementally"
      ]
    },
    {
      "cell_type": "code",
      "execution_count": 3,
      "metadata": {},
      "outputs": [
        {
          "name": "stdout",
          "output_type": "stream",
          "text": [
            "Total estimado de registros: 5200, páginas: 52\n"
          ]
        },
        {
          "data": {
            "application/vnd.jupyter.widget-view+json": {
              "model_id": "b5e7fbfbf4874d09a3405b548a152089",
              "version_major": 2,
              "version_minor": 0
            },
            "text/plain": [
              "Coletando páginas:   0%|          | 0/52 [00:00<?, ?it/s]"
            ]
          },
          "metadata": {},
          "output_type": "display_data"
        },
        {
          "name": "stdout",
          "output_type": "stream",
          "text": [
            "Arquivo CSV salvo em results/0_taginfo/combinacoes_name_brasil_taginfo.csv (5200 linhas).\n"
          ]
        },
        {
          "data": {
            "text/html": [
              "<div>\n",
              "<style scoped>\n",
              "    .dataframe tbody tr th:only-of-type {\n",
              "        vertical-align: middle;\n",
              "    }\n",
              "\n",
              "    .dataframe tbody tr th {\n",
              "        vertical-align: top;\n",
              "    }\n",
              "\n",
              "    .dataframe thead th {\n",
              "        text-align: right;\n",
              "    }\n",
              "</style>\n",
              "<table border=\"1\" class=\"dataframe\">\n",
              "  <thead>\n",
              "    <tr style=\"text-align: right;\">\n",
              "      <th></th>\n",
              "      <th>other_key</th>\n",
              "      <th>together_count</th>\n",
              "      <th>to_fraction</th>\n",
              "      <th>from_fraction</th>\n",
              "    </tr>\n",
              "  </thead>\n",
              "  <tbody>\n",
              "    <tr>\n",
              "      <th>0</th>\n",
              "      <td>highway</td>\n",
              "      <td>2711498</td>\n",
              "      <td>0.6601</td>\n",
              "      <td>0.3496</td>\n",
              "    </tr>\n",
              "    <tr>\n",
              "      <th>1</th>\n",
              "      <td>surface</td>\n",
              "      <td>1153187</td>\n",
              "      <td>0.2807</td>\n",
              "      <td>0.4187</td>\n",
              "    </tr>\n",
              "    <tr>\n",
              "      <th>2</th>\n",
              "      <td>oneway</td>\n",
              "      <td>822382</td>\n",
              "      <td>0.2002</td>\n",
              "      <td>0.6556</td>\n",
              "    </tr>\n",
              "    <tr>\n",
              "      <th>3</th>\n",
              "      <td>source</td>\n",
              "      <td>742834</td>\n",
              "      <td>0.1808</td>\n",
              "      <td>0.1185</td>\n",
              "    </tr>\n",
              "    <tr>\n",
              "      <th>4</th>\n",
              "      <td>lanes</td>\n",
              "      <td>398113</td>\n",
              "      <td>0.0969</td>\n",
              "      <td>0.7127</td>\n",
              "    </tr>\n",
              "    <tr>\n",
              "      <th>5</th>\n",
              "      <td>maxspeed</td>\n",
              "      <td>353815</td>\n",
              "      <td>0.0861</td>\n",
              "      <td>0.7226</td>\n",
              "    </tr>\n",
              "    <tr>\n",
              "      <th>6</th>\n",
              "      <td>alt_name</td>\n",
              "      <td>321363</td>\n",
              "      <td>0.0782</td>\n",
              "      <td>0.9925</td>\n",
              "    </tr>\n",
              "    <tr>\n",
              "      <th>7</th>\n",
              "      <td>amenity</td>\n",
              "      <td>279801</td>\n",
              "      <td>0.0681</td>\n",
              "      <td>0.6332</td>\n",
              "    </tr>\n",
              "    <tr>\n",
              "      <th>8</th>\n",
              "      <td>addr:street</td>\n",
              "      <td>267073</td>\n",
              "      <td>0.0650</td>\n",
              "      <td>0.1619</td>\n",
              "    </tr>\n",
              "    <tr>\n",
              "      <th>9</th>\n",
              "      <td>waterway</td>\n",
              "      <td>267013</td>\n",
              "      <td>0.0650</td>\n",
              "      <td>0.1783</td>\n",
              "    </tr>\n",
              "  </tbody>\n",
              "</table>\n",
              "</div>"
            ],
            "text/plain": [
              "     other_key  together_count  to_fraction  from_fraction\n",
              "0      highway         2711498       0.6601         0.3496\n",
              "1      surface         1153187       0.2807         0.4187\n",
              "2       oneway          822382       0.2002         0.6556\n",
              "3       source          742834       0.1808         0.1185\n",
              "4        lanes          398113       0.0969         0.7127\n",
              "5     maxspeed          353815       0.0861         0.7226\n",
              "6     alt_name          321363       0.0782         0.9925\n",
              "7      amenity          279801       0.0681         0.6332\n",
              "8  addr:street          267073       0.0650         0.1619\n",
              "9     waterway          267013       0.0650         0.1783"
            ]
          },
          "metadata": {},
          "output_type": "display_data"
        }
      ],
      "source": [
        "from pathlib import Path\n",
        "import pandas as pd\n",
        "import time\n",
        "import requests\n",
        "from tqdm.notebook import tqdm  # Use tqdm.notebook para notebooks Jupyter\n",
        "\n",
        "# Definindo o diretório de saída\n",
        "output_dir = Path(\"results/0_taginfo\")\n",
        "output_dir.mkdir(parents=True, exist_ok=True)\n",
        "\n",
        "# Parâmetros fixos\n",
        "key = \"name\"\n",
        "base_url = \"https://taginfo.geofabrik.de/south-america:brazil/api/4/key/combinations\"\n",
        "per_page = 100\n",
        "sortname = \"together_count\"\n",
        "sortorder = \"desc\"\n",
        "\n",
        "# Primeiro, vamos descobrir o total de páginas\n",
        "params_inicial = {\n",
        "    \"key\": key,\n",
        "    \"page\": 1,\n",
        "    \"rp\": per_page,\n",
        "    \"sortname\": sortname,\n",
        "    \"sortorder\": sortorder\n",
        "}\n",
        "resp = requests.get(base_url, params=params_inicial)\n",
        "if resp.status_code != 200:\n",
        "    raise Exception(\"Erro ao acessar a primeira página da API.\")\n",
        "\n",
        "result = resp.json()\n",
        "total_registros = result.get(\"total\", 0)\n",
        "total_paginas = (total_registros // per_page) + (1 if total_registros % per_page > 0 else 0)\n",
        "print(f\"Total estimado de registros: {total_registros}, páginas: {total_paginas}\")\n",
        "\n",
        "# Coleta paginada com tqdm\n",
        "all_rows = []\n",
        "for page in tqdm(range(1, total_paginas + 1), desc=\"Coletando páginas\"):\n",
        "    params = {\n",
        "        \"key\": key,\n",
        "        \"page\": page,\n",
        "        \"rp\": per_page,\n",
        "        \"sortname\": sortname,\n",
        "        \"sortorder\": sortorder\n",
        "    }\n",
        "    resp = requests.get(base_url, params=params)\n",
        "    if resp.status_code != 200:\n",
        "        print(f\"Erro na página {page}: {resp.status_code}\")\n",
        "        break\n",
        "    result = resp.json()\n",
        "    data = result.get(\"data\", [])\n",
        "    if not data:\n",
        "        break\n",
        "    for item in data:\n",
        "        all_rows.append({\n",
        "            'other_key': item.get('other_key'),\n",
        "            'together_count': item.get('together_count'),\n",
        "            'to_fraction': item.get('to_fraction'),\n",
        "            'from_fraction': item.get('from_fraction'),\n",
        "        })\n",
        "    time.sleep(0.2)\n",
        "\n",
        "# Cria e salva DataFrame\n",
        "df = pd.DataFrame(all_rows)\n",
        "df = df.sort_values(by=\"together_count\", ascending=False)\n",
        "csv_path = output_dir / \"combinacoes_name_brasil_taginfo.csv\"\n",
        "df.to_csv(csv_path, index=False)\n",
        "print(f\"Arquivo CSV salvo em {csv_path} ({len(df)} linhas).\")\n",
        "display(df.head(10))"
      ]
    },
    {
      "cell_type": "markdown",
      "metadata": {},
      "source": [
        "### Generate TreeMap\n",
        " - This step generates a TreeMap plots"
      ]
    },
    {
      "cell_type": "markdown",
      "metadata": {},
      "source": [
        "#### TreeMap using Plotly"
      ]
    },
    {
      "cell_type": "code",
      "execution_count": null,
      "metadata": {},
      "outputs": [
        {
          "data": {
            "application/vnd.plotly.v1+json": {
              "config": {
                "plotlyServerURL": "https://plot.ly"
              },
              "data": [
                {
                  "branchvalues": "total",
                  "customdata": [
                    [
                      83745,
                      "0.0204",
                      "access"
                    ],
                    [
                      83745,
                      "0.0204",
                      "access"
                    ],
                    [
                      968323,
                      "(?)",
                      "addr"
                    ],
                    [
                      267073,
                      "0.065",
                      "addr"
                    ],
                    [
                      155643,
                      "0.0379",
                      "addr"
                    ],
                    [
                      166712,
                      "0.0406",
                      "addr"
                    ],
                    [
                      195346,
                      "0.0476",
                      "addr"
                    ],
                    [
                      183549,
                      "0.0447",
                      "addr"
                    ],
                    [
                      321363,
                      "0.0782",
                      "alt_name"
                    ],
                    [
                      321363,
                      "0.0782",
                      "alt_name"
                    ],
                    [
                      279801,
                      "0.0681",
                      "amenity"
                    ],
                    [
                      279801,
                      "0.0681",
                      "amenity"
                    ],
                    [
                      244499,
                      "0.0595",
                      "building"
                    ],
                    [
                      244499,
                      "0.0595",
                      "building"
                    ],
                    [
                      2711498,
                      "0.6601",
                      "highway"
                    ],
                    [
                      2711498,
                      "0.6601",
                      "highway"
                    ],
                    [
                      95281,
                      "0.0232",
                      "landuse"
                    ],
                    [
                      95281,
                      "0.0232",
                      "landuse"
                    ],
                    [
                      398113,
                      "0.0969",
                      "lanes"
                    ],
                    [
                      398113,
                      "0.0969",
                      "lanes"
                    ],
                    [
                      99952,
                      "0.0243",
                      "layer"
                    ],
                    [
                      99952,
                      "0.0243",
                      "layer"
                    ],
                    [
                      73373,
                      "0.0179",
                      "leisure"
                    ],
                    [
                      73373,
                      "0.0179",
                      "leisure"
                    ],
                    [
                      177856,
                      "0.0433",
                      "lit"
                    ],
                    [
                      177856,
                      "0.0433",
                      "lit"
                    ],
                    [
                      353815,
                      "0.0861",
                      "maxspeed"
                    ],
                    [
                      353815,
                      "0.0861",
                      "maxspeed"
                    ],
                    [
                      822382,
                      "0.2002",
                      "oneway"
                    ],
                    [
                      822382,
                      "0.2002",
                      "oneway"
                    ],
                    [
                      105389,
                      "0.0257",
                      "operator"
                    ],
                    [
                      105389,
                      "0.0257",
                      "operator"
                    ],
                    [
                      69843,
                      "0.017",
                      "phone"
                    ],
                    [
                      69843,
                      "0.017",
                      "phone"
                    ],
                    [
                      235232,
                      "0.0573",
                      "place"
                    ],
                    [
                      235232,
                      "0.0573",
                      "place"
                    ],
                    [
                      95657,
                      "0.0233",
                      "postal_code"
                    ],
                    [
                      95657,
                      "0.0233",
                      "postal_code"
                    ],
                    [
                      53773,
                      "0.0131",
                      "public_transport"
                    ],
                    [
                      53773,
                      "0.0131",
                      "public_transport"
                    ],
                    [
                      209518,
                      "0.051",
                      "ref"
                    ],
                    [
                      209518,
                      "0.051",
                      "ref"
                    ],
                    [
                      132314,
                      "0.0322",
                      "shop"
                    ],
                    [
                      132314,
                      "0.0322",
                      "shop"
                    ],
                    [
                      60472,
                      "0.0147",
                      "sidewalk"
                    ],
                    [
                      60472,
                      "0.0147",
                      "sidewalk"
                    ],
                    [
                      153553,
                      "0.0374",
                      "source"
                    ],
                    [
                      742834,
                      "0.1808",
                      "source"
                    ],
                    [
                      896387,
                      "(?)",
                      "source"
                    ],
                    [
                      1153187,
                      "0.2807",
                      "surface"
                    ],
                    [
                      1153187,
                      "0.2807",
                      "surface"
                    ],
                    [
                      67839,
                      "0.0165",
                      "type"
                    ],
                    [
                      67839,
                      "0.0165",
                      "type"
                    ],
                    [
                      267013,
                      "0.065",
                      "waterway"
                    ],
                    [
                      267013,
                      "0.065",
                      "waterway"
                    ]
                  ],
                  "domain": {
                    "x": [
                      0,
                      1
                    ],
                    "y": [
                      0,
                      1
                    ]
                  },
                  "hovertemplate": "labels=%{label}<br>together_count=%{customdata[0]}<br>parent=%{parent}<br>id=%{id}<br>to_fraction=%{customdata[1]}<br>main_key=%{customdata[2]}<extra></extra>",
                  "ids": [
                    "access/access",
                    "access",
                    "addr",
                    "addr/addr:street",
                    "addr/addr:postcode",
                    "addr/addr:suburb",
                    "addr/addr:city",
                    "addr/addr:housenumber",
                    "alt_name",
                    "alt_name/alt_name",
                    "amenity",
                    "amenity/amenity",
                    "building",
                    "building/building",
                    "highway",
                    "highway/highway",
                    "landuse",
                    "landuse/landuse",
                    "lanes",
                    "lanes/lanes",
                    "layer/layer",
                    "layer",
                    "leisure/leisure",
                    "leisure",
                    "lit/lit",
                    "lit",
                    "maxspeed/maxspeed",
                    "maxspeed",
                    "oneway/oneway",
                    "oneway",
                    "operator/operator",
                    "operator",
                    "phone",
                    "phone/phone",
                    "place/place",
                    "place",
                    "postal_code/postal_code",
                    "postal_code",
                    "public_transport",
                    "public_transport/public_transport",
                    "ref",
                    "ref/ref",
                    "shop",
                    "shop/shop",
                    "sidewalk/sidewalk",
                    "sidewalk",
                    "source/source:name",
                    "source/source",
                    "source",
                    "surface",
                    "surface/surface",
                    "type",
                    "type/type",
                    "waterway",
                    "waterway/waterway"
                  ],
                  "labels": [
                    "access",
                    "access",
                    "addr",
                    "addr:street",
                    "addr:postcode",
                    "addr:suburb",
                    "addr:city",
                    "addr:housenumber",
                    "alt_name",
                    "alt_name",
                    "amenity",
                    "amenity",
                    "building",
                    "building",
                    "highway",
                    "highway",
                    "landuse",
                    "landuse",
                    "lanes",
                    "lanes",
                    "layer",
                    "layer",
                    "leisure",
                    "leisure",
                    "lit",
                    "lit",
                    "maxspeed",
                    "maxspeed",
                    "oneway",
                    "oneway",
                    "operator",
                    "operator",
                    "phone",
                    "phone",
                    "place",
                    "place",
                    "postal_code",
                    "postal_code",
                    "public_transport",
                    "public_transport",
                    "ref",
                    "ref",
                    "shop",
                    "shop",
                    "sidewalk",
                    "sidewalk",
                    "source:name",
                    "source",
                    "source",
                    "surface",
                    "surface",
                    "type",
                    "type",
                    "waterway",
                    "waterway"
                  ],
                  "marker": {
                    "colors": [
                      "#636efa",
                      "#636efa",
                      "#EF553B",
                      "#EF553B",
                      "#EF553B",
                      "#EF553B",
                      "#EF553B",
                      "#EF553B",
                      "#00cc96",
                      "#00cc96",
                      "#ab63fa",
                      "#ab63fa",
                      "#FFA15A",
                      "#FFA15A",
                      "#19d3f3",
                      "#19d3f3",
                      "#FF6692",
                      "#FF6692",
                      "#B6E880",
                      "#B6E880",
                      "#FF97FF",
                      "#FF97FF",
                      "#FECB52",
                      "#FECB52",
                      "#636efa",
                      "#636efa",
                      "#EF553B",
                      "#EF553B",
                      "#00cc96",
                      "#00cc96",
                      "#ab63fa",
                      "#ab63fa",
                      "#FFA15A",
                      "#FFA15A",
                      "#19d3f3",
                      "#19d3f3",
                      "#FF6692",
                      "#FF6692",
                      "#B6E880",
                      "#B6E880",
                      "#FF97FF",
                      "#FF97FF",
                      "#FECB52",
                      "#FECB52",
                      "#636efa",
                      "#636efa",
                      "#EF553B",
                      "#EF553B",
                      "#EF553B",
                      "#00cc96",
                      "#00cc96",
                      "#ab63fa",
                      "#ab63fa",
                      "#FFA15A",
                      "#FFA15A"
                    ],
                    "line": {
                      "color": "white",
                      "width": 0.5
                    }
                  },
                  "name": "",
                  "parents": [
                    "access",
                    "",
                    "",
                    "addr",
                    "addr",
                    "addr",
                    "addr",
                    "addr",
                    "",
                    "alt_name",
                    "",
                    "amenity",
                    "",
                    "building",
                    "",
                    "highway",
                    "",
                    "landuse",
                    "",
                    "lanes",
                    "layer",
                    "",
                    "leisure",
                    "",
                    "lit",
                    "",
                    "maxspeed",
                    "",
                    "oneway",
                    "",
                    "operator",
                    "",
                    "",
                    "phone",
                    "place",
                    "",
                    "postal_code",
                    "",
                    "",
                    "public_transport",
                    "",
                    "ref",
                    "",
                    "shop",
                    "sidewalk",
                    "",
                    "source",
                    "source",
                    "",
                    "",
                    "surface",
                    "",
                    "type",
                    "",
                    "waterway"
                  ],
                  "texttemplate": "%{label}<br>%{value:,}",
                  "type": "treemap",
                  "values": {
                    "bdata": "AAAAABBy9EAAAAAAEHL0QAAAAAAGjS1BAAAAAARNEEEAAAAA2P8CQQAAAADAWQRBAAAAAJDYB0EAAAAA6GcGQQAAAABMnRNBAAAAAEydE0EAAAAA5BMRQQAAAADkExFBAAAAAJjYDUEAAAAAmNgNQQAAAADlr0RBAAAAAOWvREEAAAAAEEP3QAAAAAAQQ/dAAAAAAIRMGEEAAAAAhEwYQQAAAAAAZ/hAAAAAAABn+EAAAAAA0OnxQAAAAADQ6fFAAAAAAAC2BUEAAAAAALYFQQAAAABcmBVBAAAAAFyYFUEAAAAA3BgpQQAAAADcGClBAAAAANC6+UAAAAAA0Lr5QAAAAAAwDfFAAAAAADAN8UAAAAAAALcMQQAAAAAAtwxBAAAAAJBa90AAAAAAkFr3QAAAAACgQepAAAAAAKBB6kAAAAAAcJMJQQAAAABwkwlBAAAAANAmAEEAAAAA0CYAQQAAAAAAh+1AAAAAAACH7UAAAAAAiL4CQQAAAABkqyZBAAAAAAZbK0EAAAAAo5gxQQAAAACjmDFBAAAAAPCP8EAAAAAA8I/wQAAAAAAUTBBBAAAAABRMEEE=",
                    "dtype": "f8"
                  }
                }
              ],
              "layout": {
                "legend": {
                  "tracegroupgap": 0
                },
                "margin": {
                  "b": 25,
                  "l": 25,
                  "r": 25,
                  "t": 50
                },
                "template": {
                  "data": {
                    "bar": [
                      {
                        "error_x": {
                          "color": "#2a3f5f"
                        },
                        "error_y": {
                          "color": "#2a3f5f"
                        },
                        "marker": {
                          "line": {
                            "color": "#E5ECF6",
                            "width": 0.5
                          },
                          "pattern": {
                            "fillmode": "overlay",
                            "size": 10,
                            "solidity": 0.2
                          }
                        },
                        "type": "bar"
                      }
                    ],
                    "barpolar": [
                      {
                        "marker": {
                          "line": {
                            "color": "#E5ECF6",
                            "width": 0.5
                          },
                          "pattern": {
                            "fillmode": "overlay",
                            "size": 10,
                            "solidity": 0.2
                          }
                        },
                        "type": "barpolar"
                      }
                    ],
                    "carpet": [
                      {
                        "aaxis": {
                          "endlinecolor": "#2a3f5f",
                          "gridcolor": "white",
                          "linecolor": "white",
                          "minorgridcolor": "white",
                          "startlinecolor": "#2a3f5f"
                        },
                        "baxis": {
                          "endlinecolor": "#2a3f5f",
                          "gridcolor": "white",
                          "linecolor": "white",
                          "minorgridcolor": "white",
                          "startlinecolor": "#2a3f5f"
                        },
                        "type": "carpet"
                      }
                    ],
                    "choropleth": [
                      {
                        "colorbar": {
                          "outlinewidth": 0,
                          "ticks": ""
                        },
                        "type": "choropleth"
                      }
                    ],
                    "contour": [
                      {
                        "colorbar": {
                          "outlinewidth": 0,
                          "ticks": ""
                        },
                        "colorscale": [
                          [
                            0,
                            "#0d0887"
                          ],
                          [
                            0.1111111111111111,
                            "#46039f"
                          ],
                          [
                            0.2222222222222222,
                            "#7201a8"
                          ],
                          [
                            0.3333333333333333,
                            "#9c179e"
                          ],
                          [
                            0.4444444444444444,
                            "#bd3786"
                          ],
                          [
                            0.5555555555555556,
                            "#d8576b"
                          ],
                          [
                            0.6666666666666666,
                            "#ed7953"
                          ],
                          [
                            0.7777777777777778,
                            "#fb9f3a"
                          ],
                          [
                            0.8888888888888888,
                            "#fdca26"
                          ],
                          [
                            1,
                            "#f0f921"
                          ]
                        ],
                        "type": "contour"
                      }
                    ],
                    "contourcarpet": [
                      {
                        "colorbar": {
                          "outlinewidth": 0,
                          "ticks": ""
                        },
                        "type": "contourcarpet"
                      }
                    ],
                    "heatmap": [
                      {
                        "colorbar": {
                          "outlinewidth": 0,
                          "ticks": ""
                        },
                        "colorscale": [
                          [
                            0,
                            "#0d0887"
                          ],
                          [
                            0.1111111111111111,
                            "#46039f"
                          ],
                          [
                            0.2222222222222222,
                            "#7201a8"
                          ],
                          [
                            0.3333333333333333,
                            "#9c179e"
                          ],
                          [
                            0.4444444444444444,
                            "#bd3786"
                          ],
                          [
                            0.5555555555555556,
                            "#d8576b"
                          ],
                          [
                            0.6666666666666666,
                            "#ed7953"
                          ],
                          [
                            0.7777777777777778,
                            "#fb9f3a"
                          ],
                          [
                            0.8888888888888888,
                            "#fdca26"
                          ],
                          [
                            1,
                            "#f0f921"
                          ]
                        ],
                        "type": "heatmap"
                      }
                    ],
                    "histogram": [
                      {
                        "marker": {
                          "pattern": {
                            "fillmode": "overlay",
                            "size": 10,
                            "solidity": 0.2
                          }
                        },
                        "type": "histogram"
                      }
                    ],
                    "histogram2d": [
                      {
                        "colorbar": {
                          "outlinewidth": 0,
                          "ticks": ""
                        },
                        "colorscale": [
                          [
                            0,
                            "#0d0887"
                          ],
                          [
                            0.1111111111111111,
                            "#46039f"
                          ],
                          [
                            0.2222222222222222,
                            "#7201a8"
                          ],
                          [
                            0.3333333333333333,
                            "#9c179e"
                          ],
                          [
                            0.4444444444444444,
                            "#bd3786"
                          ],
                          [
                            0.5555555555555556,
                            "#d8576b"
                          ],
                          [
                            0.6666666666666666,
                            "#ed7953"
                          ],
                          [
                            0.7777777777777778,
                            "#fb9f3a"
                          ],
                          [
                            0.8888888888888888,
                            "#fdca26"
                          ],
                          [
                            1,
                            "#f0f921"
                          ]
                        ],
                        "type": "histogram2d"
                      }
                    ],
                    "histogram2dcontour": [
                      {
                        "colorbar": {
                          "outlinewidth": 0,
                          "ticks": ""
                        },
                        "colorscale": [
                          [
                            0,
                            "#0d0887"
                          ],
                          [
                            0.1111111111111111,
                            "#46039f"
                          ],
                          [
                            0.2222222222222222,
                            "#7201a8"
                          ],
                          [
                            0.3333333333333333,
                            "#9c179e"
                          ],
                          [
                            0.4444444444444444,
                            "#bd3786"
                          ],
                          [
                            0.5555555555555556,
                            "#d8576b"
                          ],
                          [
                            0.6666666666666666,
                            "#ed7953"
                          ],
                          [
                            0.7777777777777778,
                            "#fb9f3a"
                          ],
                          [
                            0.8888888888888888,
                            "#fdca26"
                          ],
                          [
                            1,
                            "#f0f921"
                          ]
                        ],
                        "type": "histogram2dcontour"
                      }
                    ],
                    "mesh3d": [
                      {
                        "colorbar": {
                          "outlinewidth": 0,
                          "ticks": ""
                        },
                        "type": "mesh3d"
                      }
                    ],
                    "parcoords": [
                      {
                        "line": {
                          "colorbar": {
                            "outlinewidth": 0,
                            "ticks": ""
                          }
                        },
                        "type": "parcoords"
                      }
                    ],
                    "pie": [
                      {
                        "automargin": true,
                        "type": "pie"
                      }
                    ],
                    "scatter": [
                      {
                        "fillpattern": {
                          "fillmode": "overlay",
                          "size": 10,
                          "solidity": 0.2
                        },
                        "type": "scatter"
                      }
                    ],
                    "scatter3d": [
                      {
                        "line": {
                          "colorbar": {
                            "outlinewidth": 0,
                            "ticks": ""
                          }
                        },
                        "marker": {
                          "colorbar": {
                            "outlinewidth": 0,
                            "ticks": ""
                          }
                        },
                        "type": "scatter3d"
                      }
                    ],
                    "scattercarpet": [
                      {
                        "marker": {
                          "colorbar": {
                            "outlinewidth": 0,
                            "ticks": ""
                          }
                        },
                        "type": "scattercarpet"
                      }
                    ],
                    "scattergeo": [
                      {
                        "marker": {
                          "colorbar": {
                            "outlinewidth": 0,
                            "ticks": ""
                          }
                        },
                        "type": "scattergeo"
                      }
                    ],
                    "scattergl": [
                      {
                        "marker": {
                          "colorbar": {
                            "outlinewidth": 0,
                            "ticks": ""
                          }
                        },
                        "type": "scattergl"
                      }
                    ],
                    "scattermap": [
                      {
                        "marker": {
                          "colorbar": {
                            "outlinewidth": 0,
                            "ticks": ""
                          }
                        },
                        "type": "scattermap"
                      }
                    ],
                    "scattermapbox": [
                      {
                        "marker": {
                          "colorbar": {
                            "outlinewidth": 0,
                            "ticks": ""
                          }
                        },
                        "type": "scattermapbox"
                      }
                    ],
                    "scatterpolar": [
                      {
                        "marker": {
                          "colorbar": {
                            "outlinewidth": 0,
                            "ticks": ""
                          }
                        },
                        "type": "scatterpolar"
                      }
                    ],
                    "scatterpolargl": [
                      {
                        "marker": {
                          "colorbar": {
                            "outlinewidth": 0,
                            "ticks": ""
                          }
                        },
                        "type": "scatterpolargl"
                      }
                    ],
                    "scatterternary": [
                      {
                        "marker": {
                          "colorbar": {
                            "outlinewidth": 0,
                            "ticks": ""
                          }
                        },
                        "type": "scatterternary"
                      }
                    ],
                    "surface": [
                      {
                        "colorbar": {
                          "outlinewidth": 0,
                          "ticks": ""
                        },
                        "colorscale": [
                          [
                            0,
                            "#0d0887"
                          ],
                          [
                            0.1111111111111111,
                            "#46039f"
                          ],
                          [
                            0.2222222222222222,
                            "#7201a8"
                          ],
                          [
                            0.3333333333333333,
                            "#9c179e"
                          ],
                          [
                            0.4444444444444444,
                            "#bd3786"
                          ],
                          [
                            0.5555555555555556,
                            "#d8576b"
                          ],
                          [
                            0.6666666666666666,
                            "#ed7953"
                          ],
                          [
                            0.7777777777777778,
                            "#fb9f3a"
                          ],
                          [
                            0.8888888888888888,
                            "#fdca26"
                          ],
                          [
                            1,
                            "#f0f921"
                          ]
                        ],
                        "type": "surface"
                      }
                    ],
                    "table": [
                      {
                        "cells": {
                          "fill": {
                            "color": "#EBF0F8"
                          },
                          "line": {
                            "color": "white"
                          }
                        },
                        "header": {
                          "fill": {
                            "color": "#C8D4E3"
                          },
                          "line": {
                            "color": "white"
                          }
                        },
                        "type": "table"
                      }
                    ]
                  },
                  "layout": {
                    "annotationdefaults": {
                      "arrowcolor": "#2a3f5f",
                      "arrowhead": 0,
                      "arrowwidth": 1
                    },
                    "autotypenumbers": "strict",
                    "coloraxis": {
                      "colorbar": {
                        "outlinewidth": 0,
                        "ticks": ""
                      }
                    },
                    "colorscale": {
                      "diverging": [
                        [
                          0,
                          "#8e0152"
                        ],
                        [
                          0.1,
                          "#c51b7d"
                        ],
                        [
                          0.2,
                          "#de77ae"
                        ],
                        [
                          0.3,
                          "#f1b6da"
                        ],
                        [
                          0.4,
                          "#fde0ef"
                        ],
                        [
                          0.5,
                          "#f7f7f7"
                        ],
                        [
                          0.6,
                          "#e6f5d0"
                        ],
                        [
                          0.7,
                          "#b8e186"
                        ],
                        [
                          0.8,
                          "#7fbc41"
                        ],
                        [
                          0.9,
                          "#4d9221"
                        ],
                        [
                          1,
                          "#276419"
                        ]
                      ],
                      "sequential": [
                        [
                          0,
                          "#0d0887"
                        ],
                        [
                          0.1111111111111111,
                          "#46039f"
                        ],
                        [
                          0.2222222222222222,
                          "#7201a8"
                        ],
                        [
                          0.3333333333333333,
                          "#9c179e"
                        ],
                        [
                          0.4444444444444444,
                          "#bd3786"
                        ],
                        [
                          0.5555555555555556,
                          "#d8576b"
                        ],
                        [
                          0.6666666666666666,
                          "#ed7953"
                        ],
                        [
                          0.7777777777777778,
                          "#fb9f3a"
                        ],
                        [
                          0.8888888888888888,
                          "#fdca26"
                        ],
                        [
                          1,
                          "#f0f921"
                        ]
                      ],
                      "sequentialminus": [
                        [
                          0,
                          "#0d0887"
                        ],
                        [
                          0.1111111111111111,
                          "#46039f"
                        ],
                        [
                          0.2222222222222222,
                          "#7201a8"
                        ],
                        [
                          0.3333333333333333,
                          "#9c179e"
                        ],
                        [
                          0.4444444444444444,
                          "#bd3786"
                        ],
                        [
                          0.5555555555555556,
                          "#d8576b"
                        ],
                        [
                          0.6666666666666666,
                          "#ed7953"
                        ],
                        [
                          0.7777777777777778,
                          "#fb9f3a"
                        ],
                        [
                          0.8888888888888888,
                          "#fdca26"
                        ],
                        [
                          1,
                          "#f0f921"
                        ]
                      ]
                    },
                    "colorway": [
                      "#636efa",
                      "#EF553B",
                      "#00cc96",
                      "#ab63fa",
                      "#FFA15A",
                      "#19d3f3",
                      "#FF6692",
                      "#B6E880",
                      "#FF97FF",
                      "#FECB52"
                    ],
                    "font": {
                      "color": "#2a3f5f"
                    },
                    "geo": {
                      "bgcolor": "white",
                      "lakecolor": "white",
                      "landcolor": "#E5ECF6",
                      "showlakes": true,
                      "showland": true,
                      "subunitcolor": "white"
                    },
                    "hoverlabel": {
                      "align": "left"
                    },
                    "hovermode": "closest",
                    "mapbox": {
                      "style": "light"
                    },
                    "paper_bgcolor": "white",
                    "plot_bgcolor": "#E5ECF6",
                    "polar": {
                      "angularaxis": {
                        "gridcolor": "white",
                        "linecolor": "white",
                        "ticks": ""
                      },
                      "bgcolor": "#E5ECF6",
                      "radialaxis": {
                        "gridcolor": "white",
                        "linecolor": "white",
                        "ticks": ""
                      }
                    },
                    "scene": {
                      "xaxis": {
                        "backgroundcolor": "#E5ECF6",
                        "gridcolor": "white",
                        "gridwidth": 2,
                        "linecolor": "white",
                        "showbackground": true,
                        "ticks": "",
                        "zerolinecolor": "white"
                      },
                      "yaxis": {
                        "backgroundcolor": "#E5ECF6",
                        "gridcolor": "white",
                        "gridwidth": 2,
                        "linecolor": "white",
                        "showbackground": true,
                        "ticks": "",
                        "zerolinecolor": "white"
                      },
                      "zaxis": {
                        "backgroundcolor": "#E5ECF6",
                        "gridcolor": "white",
                        "gridwidth": 2,
                        "linecolor": "white",
                        "showbackground": true,
                        "ticks": "",
                        "zerolinecolor": "white"
                      }
                    },
                    "shapedefaults": {
                      "line": {
                        "color": "#2a3f5f"
                      }
                    },
                    "ternary": {
                      "aaxis": {
                        "gridcolor": "white",
                        "linecolor": "white",
                        "ticks": ""
                      },
                      "baxis": {
                        "gridcolor": "white",
                        "linecolor": "white",
                        "ticks": ""
                      },
                      "bgcolor": "#E5ECF6",
                      "caxis": {
                        "gridcolor": "white",
                        "linecolor": "white",
                        "ticks": ""
                      }
                    },
                    "title": {
                      "x": 0.05
                    },
                    "xaxis": {
                      "automargin": true,
                      "gridcolor": "white",
                      "linecolor": "white",
                      "ticks": "",
                      "title": {
                        "standoff": 15
                      },
                      "zerolinecolor": "white",
                      "zerolinewidth": 2
                    },
                    "yaxis": {
                      "automargin": true,
                      "gridcolor": "white",
                      "linecolor": "white",
                      "ticks": "",
                      "title": {
                        "standoff": 15
                      },
                      "zerolinecolor": "white",
                      "zerolinewidth": 2
                    }
                  }
                },
                "title": {
                  "text": "TreeMap: Top 30 das combinações 'name' + outras tags no OSM Brasil (data: 2025-06-23)"
                }
              }
            }
          },
          "metadata": {},
          "output_type": "display_data"
        }
      ],
      "source": [
        "# == 1st VERSION using Plotly ===\n",
        "import pandas as pd\n",
        "from pathlib import Path\n",
        "import plotly.express as px\n",
        "\n",
        "# Carregar CSV se necessário\n",
        "# df = pd.read_csv(csv_path)\n",
        "\n",
        "# Remove registros com zero ou poucos elementos (ajuste o threshold)\n",
        "df = df[df[\"to_fraction\"] > 0.01]\n",
        "\n",
        "# Extrai a chave principal (tudo antes de ':')\n",
        "df[\"main_key\"] = df[\"other_key\"].str.split(\":\").str[0]\n",
        "\n",
        "# Ordena do maior para menor\n",
        "df = df.sort_values(by=\"together_count\", ascending=False)\n",
        "\n",
        "# Filtrar apenas os top-N\n",
        "top_n = 30\n",
        "df_plot = df.head(top_n)\n",
        "\n",
        "# TreeMap\n",
        "fig = px.treemap(\n",
        "    df_plot,\n",
        "    path=[\"main_key\", \"other_key\"], # agrupamento por chave principal\n",
        "    values=\"together_count\",\n",
        "    hover_data={\"together_count\": True, \"to_fraction\": True},\n",
        "    color=\"main_key\",\n",
        "    title=\"TreeMap: Top 30 das combinações 'name' + outras tags no OSM Brasil (data: 2025-06-23)\",\n",
        ")\n",
        "\n",
        "fig.update_traces(\n",
        "    texttemplate=\"%{label}<br>%{value:,}\",\n",
        "    marker=dict(\n",
        "        line=dict(width=0.5, color='white')\n",
        "    )\n",
        ")\n",
        "fig.update_layout(margin=dict(t=50, l=25, r=25, b=25))\n",
        "\n",
        "fig.show()"
      ]
    },
    {
      "cell_type": "code",
      "execution_count": null,
      "metadata": {},
      "outputs": [
        {
          "data": {
            "application/vnd.plotly.v1+json": {
              "config": {
                "plotlyServerURL": "https://plot.ly"
              },
              "data": [
                {
                  "branchvalues": "total",
                  "customdata": [
                    [
                      "access"
                    ],
                    [
                      "addr"
                    ],
                    [
                      "alt_name"
                    ],
                    [
                      "amenity"
                    ],
                    [
                      "building"
                    ],
                    [
                      "highway"
                    ],
                    [
                      "landuse"
                    ],
                    [
                      "lanes"
                    ],
                    [
                      "layer"
                    ],
                    [
                      "leisure"
                    ],
                    [
                      "lit"
                    ],
                    [
                      "maxspeed"
                    ],
                    [
                      "oneway"
                    ],
                    [
                      "operator"
                    ],
                    [
                      "phone"
                    ],
                    [
                      "place"
                    ],
                    [
                      "postal_code"
                    ],
                    [
                      "public_transport"
                    ],
                    [
                      "ref"
                    ],
                    [
                      "shop"
                    ],
                    [
                      "sidewalk"
                    ],
                    [
                      "source"
                    ],
                    [
                      "surface"
                    ],
                    [
                      "type"
                    ],
                    [
                      "waterway"
                    ]
                  ],
                  "domain": {
                    "x": [
                      0,
                      1
                    ],
                    "y": [
                      0,
                      1
                    ]
                  },
                  "hovertemplate": "labels=%{label}<br>together_count=%{value}<br>parent=%{parent}<br>id=%{id}<br>main_key=%{customdata[0]}<extra></extra>",
                  "ids": [
                    "access",
                    "addr",
                    "alt_name",
                    "amenity",
                    "building",
                    "highway",
                    "landuse",
                    "lanes",
                    "layer",
                    "leisure",
                    "lit",
                    "maxspeed",
                    "oneway",
                    "operator",
                    "phone",
                    "place",
                    "postal_code",
                    "public_transport",
                    "ref",
                    "shop",
                    "sidewalk",
                    "source",
                    "surface",
                    "type",
                    "waterway"
                  ],
                  "labels": [
                    "access",
                    "addr",
                    "alt_name",
                    "amenity",
                    "building",
                    "highway",
                    "landuse",
                    "lanes",
                    "layer",
                    "leisure",
                    "lit",
                    "maxspeed",
                    "oneway",
                    "operator",
                    "phone",
                    "place",
                    "postal_code",
                    "public_transport",
                    "ref",
                    "shop",
                    "sidewalk",
                    "source",
                    "surface",
                    "type",
                    "waterway"
                  ],
                  "marker": {
                    "colors": [
                      "#636efa",
                      "#EF553B",
                      "#00cc96",
                      "#ab63fa",
                      "#FFA15A",
                      "#19d3f3",
                      "#FF6692",
                      "#B6E880",
                      "#FF97FF",
                      "#FECB52",
                      "#636efa",
                      "#EF553B",
                      "#00cc96",
                      "#ab63fa",
                      "#FFA15A",
                      "#19d3f3",
                      "#FF6692",
                      "#B6E880",
                      "#FF97FF",
                      "#FECB52",
                      "#636efa",
                      "#EF553B",
                      "#00cc96",
                      "#ab63fa",
                      "#FFA15A"
                    ],
                    "line": {
                      "color": "white",
                      "width": 0.2
                    }
                  },
                  "name": "",
                  "parents": [
                    "",
                    "",
                    "",
                    "",
                    "",
                    "",
                    "",
                    "",
                    "",
                    "",
                    "",
                    "",
                    "",
                    "",
                    "",
                    "",
                    "",
                    "",
                    "",
                    "",
                    "",
                    "",
                    "",
                    "",
                    ""
                  ],
                  "textfont": {
                    "size": 12
                  },
                  "texttemplate": "<b>%{label}</b><br>%{value:,}",
                  "type": "treemap",
                  "values": {
                    "bdata": "AAAAABBy9EAAAAAABo0tQQAAAABMnRNBAAAAAOQTEUEAAAAAmNgNQQAAAADlr0RBAAAAABBD90AAAAAAhEwYQQAAAAAAZ/hAAAAAANDp8UAAAAAAALYFQQAAAABcmBVBAAAAANwYKUEAAAAA0Lr5QAAAAAAwDfFAAAAAAAC3DEEAAAAAkFr3QAAAAACgQepAAAAAAHCTCUEAAAAA0CYAQQAAAAAAh+1AAAAAAAZbK0EAAAAAo5gxQQAAAADwj/BAAAAAABRMEEE=",
                    "dtype": "f8"
                  }
                }
              ],
              "layout": {
                "legend": {
                  "tracegroupgap": 0
                },
                "margin": {
                  "b": 40,
                  "l": 25,
                  "r": 25,
                  "t": 60
                },
                "template": {
                  "data": {
                    "bar": [
                      {
                        "error_x": {
                          "color": "#2a3f5f"
                        },
                        "error_y": {
                          "color": "#2a3f5f"
                        },
                        "marker": {
                          "line": {
                            "color": "#E5ECF6",
                            "width": 0.5
                          },
                          "pattern": {
                            "fillmode": "overlay",
                            "size": 10,
                            "solidity": 0.2
                          }
                        },
                        "type": "bar"
                      }
                    ],
                    "barpolar": [
                      {
                        "marker": {
                          "line": {
                            "color": "#E5ECF6",
                            "width": 0.5
                          },
                          "pattern": {
                            "fillmode": "overlay",
                            "size": 10,
                            "solidity": 0.2
                          }
                        },
                        "type": "barpolar"
                      }
                    ],
                    "carpet": [
                      {
                        "aaxis": {
                          "endlinecolor": "#2a3f5f",
                          "gridcolor": "white",
                          "linecolor": "white",
                          "minorgridcolor": "white",
                          "startlinecolor": "#2a3f5f"
                        },
                        "baxis": {
                          "endlinecolor": "#2a3f5f",
                          "gridcolor": "white",
                          "linecolor": "white",
                          "minorgridcolor": "white",
                          "startlinecolor": "#2a3f5f"
                        },
                        "type": "carpet"
                      }
                    ],
                    "choropleth": [
                      {
                        "colorbar": {
                          "outlinewidth": 0,
                          "ticks": ""
                        },
                        "type": "choropleth"
                      }
                    ],
                    "contour": [
                      {
                        "colorbar": {
                          "outlinewidth": 0,
                          "ticks": ""
                        },
                        "colorscale": [
                          [
                            0,
                            "#0d0887"
                          ],
                          [
                            0.1111111111111111,
                            "#46039f"
                          ],
                          [
                            0.2222222222222222,
                            "#7201a8"
                          ],
                          [
                            0.3333333333333333,
                            "#9c179e"
                          ],
                          [
                            0.4444444444444444,
                            "#bd3786"
                          ],
                          [
                            0.5555555555555556,
                            "#d8576b"
                          ],
                          [
                            0.6666666666666666,
                            "#ed7953"
                          ],
                          [
                            0.7777777777777778,
                            "#fb9f3a"
                          ],
                          [
                            0.8888888888888888,
                            "#fdca26"
                          ],
                          [
                            1,
                            "#f0f921"
                          ]
                        ],
                        "type": "contour"
                      }
                    ],
                    "contourcarpet": [
                      {
                        "colorbar": {
                          "outlinewidth": 0,
                          "ticks": ""
                        },
                        "type": "contourcarpet"
                      }
                    ],
                    "heatmap": [
                      {
                        "colorbar": {
                          "outlinewidth": 0,
                          "ticks": ""
                        },
                        "colorscale": [
                          [
                            0,
                            "#0d0887"
                          ],
                          [
                            0.1111111111111111,
                            "#46039f"
                          ],
                          [
                            0.2222222222222222,
                            "#7201a8"
                          ],
                          [
                            0.3333333333333333,
                            "#9c179e"
                          ],
                          [
                            0.4444444444444444,
                            "#bd3786"
                          ],
                          [
                            0.5555555555555556,
                            "#d8576b"
                          ],
                          [
                            0.6666666666666666,
                            "#ed7953"
                          ],
                          [
                            0.7777777777777778,
                            "#fb9f3a"
                          ],
                          [
                            0.8888888888888888,
                            "#fdca26"
                          ],
                          [
                            1,
                            "#f0f921"
                          ]
                        ],
                        "type": "heatmap"
                      }
                    ],
                    "histogram": [
                      {
                        "marker": {
                          "pattern": {
                            "fillmode": "overlay",
                            "size": 10,
                            "solidity": 0.2
                          }
                        },
                        "type": "histogram"
                      }
                    ],
                    "histogram2d": [
                      {
                        "colorbar": {
                          "outlinewidth": 0,
                          "ticks": ""
                        },
                        "colorscale": [
                          [
                            0,
                            "#0d0887"
                          ],
                          [
                            0.1111111111111111,
                            "#46039f"
                          ],
                          [
                            0.2222222222222222,
                            "#7201a8"
                          ],
                          [
                            0.3333333333333333,
                            "#9c179e"
                          ],
                          [
                            0.4444444444444444,
                            "#bd3786"
                          ],
                          [
                            0.5555555555555556,
                            "#d8576b"
                          ],
                          [
                            0.6666666666666666,
                            "#ed7953"
                          ],
                          [
                            0.7777777777777778,
                            "#fb9f3a"
                          ],
                          [
                            0.8888888888888888,
                            "#fdca26"
                          ],
                          [
                            1,
                            "#f0f921"
                          ]
                        ],
                        "type": "histogram2d"
                      }
                    ],
                    "histogram2dcontour": [
                      {
                        "colorbar": {
                          "outlinewidth": 0,
                          "ticks": ""
                        },
                        "colorscale": [
                          [
                            0,
                            "#0d0887"
                          ],
                          [
                            0.1111111111111111,
                            "#46039f"
                          ],
                          [
                            0.2222222222222222,
                            "#7201a8"
                          ],
                          [
                            0.3333333333333333,
                            "#9c179e"
                          ],
                          [
                            0.4444444444444444,
                            "#bd3786"
                          ],
                          [
                            0.5555555555555556,
                            "#d8576b"
                          ],
                          [
                            0.6666666666666666,
                            "#ed7953"
                          ],
                          [
                            0.7777777777777778,
                            "#fb9f3a"
                          ],
                          [
                            0.8888888888888888,
                            "#fdca26"
                          ],
                          [
                            1,
                            "#f0f921"
                          ]
                        ],
                        "type": "histogram2dcontour"
                      }
                    ],
                    "mesh3d": [
                      {
                        "colorbar": {
                          "outlinewidth": 0,
                          "ticks": ""
                        },
                        "type": "mesh3d"
                      }
                    ],
                    "parcoords": [
                      {
                        "line": {
                          "colorbar": {
                            "outlinewidth": 0,
                            "ticks": ""
                          }
                        },
                        "type": "parcoords"
                      }
                    ],
                    "pie": [
                      {
                        "automargin": true,
                        "type": "pie"
                      }
                    ],
                    "scatter": [
                      {
                        "fillpattern": {
                          "fillmode": "overlay",
                          "size": 10,
                          "solidity": 0.2
                        },
                        "type": "scatter"
                      }
                    ],
                    "scatter3d": [
                      {
                        "line": {
                          "colorbar": {
                            "outlinewidth": 0,
                            "ticks": ""
                          }
                        },
                        "marker": {
                          "colorbar": {
                            "outlinewidth": 0,
                            "ticks": ""
                          }
                        },
                        "type": "scatter3d"
                      }
                    ],
                    "scattercarpet": [
                      {
                        "marker": {
                          "colorbar": {
                            "outlinewidth": 0,
                            "ticks": ""
                          }
                        },
                        "type": "scattercarpet"
                      }
                    ],
                    "scattergeo": [
                      {
                        "marker": {
                          "colorbar": {
                            "outlinewidth": 0,
                            "ticks": ""
                          }
                        },
                        "type": "scattergeo"
                      }
                    ],
                    "scattergl": [
                      {
                        "marker": {
                          "colorbar": {
                            "outlinewidth": 0,
                            "ticks": ""
                          }
                        },
                        "type": "scattergl"
                      }
                    ],
                    "scattermap": [
                      {
                        "marker": {
                          "colorbar": {
                            "outlinewidth": 0,
                            "ticks": ""
                          }
                        },
                        "type": "scattermap"
                      }
                    ],
                    "scattermapbox": [
                      {
                        "marker": {
                          "colorbar": {
                            "outlinewidth": 0,
                            "ticks": ""
                          }
                        },
                        "type": "scattermapbox"
                      }
                    ],
                    "scatterpolar": [
                      {
                        "marker": {
                          "colorbar": {
                            "outlinewidth": 0,
                            "ticks": ""
                          }
                        },
                        "type": "scatterpolar"
                      }
                    ],
                    "scatterpolargl": [
                      {
                        "marker": {
                          "colorbar": {
                            "outlinewidth": 0,
                            "ticks": ""
                          }
                        },
                        "type": "scatterpolargl"
                      }
                    ],
                    "scatterternary": [
                      {
                        "marker": {
                          "colorbar": {
                            "outlinewidth": 0,
                            "ticks": ""
                          }
                        },
                        "type": "scatterternary"
                      }
                    ],
                    "surface": [
                      {
                        "colorbar": {
                          "outlinewidth": 0,
                          "ticks": ""
                        },
                        "colorscale": [
                          [
                            0,
                            "#0d0887"
                          ],
                          [
                            0.1111111111111111,
                            "#46039f"
                          ],
                          [
                            0.2222222222222222,
                            "#7201a8"
                          ],
                          [
                            0.3333333333333333,
                            "#9c179e"
                          ],
                          [
                            0.4444444444444444,
                            "#bd3786"
                          ],
                          [
                            0.5555555555555556,
                            "#d8576b"
                          ],
                          [
                            0.6666666666666666,
                            "#ed7953"
                          ],
                          [
                            0.7777777777777778,
                            "#fb9f3a"
                          ],
                          [
                            0.8888888888888888,
                            "#fdca26"
                          ],
                          [
                            1,
                            "#f0f921"
                          ]
                        ],
                        "type": "surface"
                      }
                    ],
                    "table": [
                      {
                        "cells": {
                          "fill": {
                            "color": "#EBF0F8"
                          },
                          "line": {
                            "color": "white"
                          }
                        },
                        "header": {
                          "fill": {
                            "color": "#C8D4E3"
                          },
                          "line": {
                            "color": "white"
                          }
                        },
                        "type": "table"
                      }
                    ]
                  },
                  "layout": {
                    "annotationdefaults": {
                      "arrowcolor": "#2a3f5f",
                      "arrowhead": 0,
                      "arrowwidth": 1
                    },
                    "autotypenumbers": "strict",
                    "coloraxis": {
                      "colorbar": {
                        "outlinewidth": 0,
                        "ticks": ""
                      }
                    },
                    "colorscale": {
                      "diverging": [
                        [
                          0,
                          "#8e0152"
                        ],
                        [
                          0.1,
                          "#c51b7d"
                        ],
                        [
                          0.2,
                          "#de77ae"
                        ],
                        [
                          0.3,
                          "#f1b6da"
                        ],
                        [
                          0.4,
                          "#fde0ef"
                        ],
                        [
                          0.5,
                          "#f7f7f7"
                        ],
                        [
                          0.6,
                          "#e6f5d0"
                        ],
                        [
                          0.7,
                          "#b8e186"
                        ],
                        [
                          0.8,
                          "#7fbc41"
                        ],
                        [
                          0.9,
                          "#4d9221"
                        ],
                        [
                          1,
                          "#276419"
                        ]
                      ],
                      "sequential": [
                        [
                          0,
                          "#0d0887"
                        ],
                        [
                          0.1111111111111111,
                          "#46039f"
                        ],
                        [
                          0.2222222222222222,
                          "#7201a8"
                        ],
                        [
                          0.3333333333333333,
                          "#9c179e"
                        ],
                        [
                          0.4444444444444444,
                          "#bd3786"
                        ],
                        [
                          0.5555555555555556,
                          "#d8576b"
                        ],
                        [
                          0.6666666666666666,
                          "#ed7953"
                        ],
                        [
                          0.7777777777777778,
                          "#fb9f3a"
                        ],
                        [
                          0.8888888888888888,
                          "#fdca26"
                        ],
                        [
                          1,
                          "#f0f921"
                        ]
                      ],
                      "sequentialminus": [
                        [
                          0,
                          "#0d0887"
                        ],
                        [
                          0.1111111111111111,
                          "#46039f"
                        ],
                        [
                          0.2222222222222222,
                          "#7201a8"
                        ],
                        [
                          0.3333333333333333,
                          "#9c179e"
                        ],
                        [
                          0.4444444444444444,
                          "#bd3786"
                        ],
                        [
                          0.5555555555555556,
                          "#d8576b"
                        ],
                        [
                          0.6666666666666666,
                          "#ed7953"
                        ],
                        [
                          0.7777777777777778,
                          "#fb9f3a"
                        ],
                        [
                          0.8888888888888888,
                          "#fdca26"
                        ],
                        [
                          1,
                          "#f0f921"
                        ]
                      ]
                    },
                    "colorway": [
                      "#636efa",
                      "#EF553B",
                      "#00cc96",
                      "#ab63fa",
                      "#FFA15A",
                      "#19d3f3",
                      "#FF6692",
                      "#B6E880",
                      "#FF97FF",
                      "#FECB52"
                    ],
                    "font": {
                      "color": "#2a3f5f"
                    },
                    "geo": {
                      "bgcolor": "white",
                      "lakecolor": "white",
                      "landcolor": "#E5ECF6",
                      "showlakes": true,
                      "showland": true,
                      "subunitcolor": "white"
                    },
                    "hoverlabel": {
                      "align": "left"
                    },
                    "hovermode": "closest",
                    "mapbox": {
                      "style": "light"
                    },
                    "paper_bgcolor": "white",
                    "plot_bgcolor": "#E5ECF6",
                    "polar": {
                      "angularaxis": {
                        "gridcolor": "white",
                        "linecolor": "white",
                        "ticks": ""
                      },
                      "bgcolor": "#E5ECF6",
                      "radialaxis": {
                        "gridcolor": "white",
                        "linecolor": "white",
                        "ticks": ""
                      }
                    },
                    "scene": {
                      "xaxis": {
                        "backgroundcolor": "#E5ECF6",
                        "gridcolor": "white",
                        "gridwidth": 2,
                        "linecolor": "white",
                        "showbackground": true,
                        "ticks": "",
                        "zerolinecolor": "white"
                      },
                      "yaxis": {
                        "backgroundcolor": "#E5ECF6",
                        "gridcolor": "white",
                        "gridwidth": 2,
                        "linecolor": "white",
                        "showbackground": true,
                        "ticks": "",
                        "zerolinecolor": "white"
                      },
                      "zaxis": {
                        "backgroundcolor": "#E5ECF6",
                        "gridcolor": "white",
                        "gridwidth": 2,
                        "linecolor": "white",
                        "showbackground": true,
                        "ticks": "",
                        "zerolinecolor": "white"
                      }
                    },
                    "shapedefaults": {
                      "line": {
                        "color": "#2a3f5f"
                      }
                    },
                    "ternary": {
                      "aaxis": {
                        "gridcolor": "white",
                        "linecolor": "white",
                        "ticks": ""
                      },
                      "baxis": {
                        "gridcolor": "white",
                        "linecolor": "white",
                        "ticks": ""
                      },
                      "bgcolor": "#E5ECF6",
                      "caxis": {
                        "gridcolor": "white",
                        "linecolor": "white",
                        "ticks": ""
                      }
                    },
                    "title": {
                      "x": 0.05
                    },
                    "xaxis": {
                      "automargin": true,
                      "gridcolor": "white",
                      "linecolor": "white",
                      "ticks": "",
                      "title": {
                        "standoff": 15
                      },
                      "zerolinecolor": "white",
                      "zerolinewidth": 2
                    },
                    "yaxis": {
                      "automargin": true,
                      "gridcolor": "white",
                      "linecolor": "white",
                      "ticks": "",
                      "title": {
                        "standoff": 15
                      },
                      "zerolinecolor": "white",
                      "zerolinewidth": 2
                    }
                  }
                },
                "title": {
                  "text": "TreeMap: Top 30 keys com 'name' no OSM Brasil (data: 2025-06-23)"
                },
                "xaxis": {
                  "visible": false
                },
                "yaxis": {
                  "visible": false
                }
              }
            }
          },
          "metadata": {},
          "output_type": "display_data"
        }
      ],
      "source": [
        "# == 2st VERSION using Plotly ===\n",
        "# Generate a TreeMap with only the main key using Plotly Express\n",
        "\n",
        "import plotly.express as px\n",
        "import pandas as pd\n",
        "\n",
        "# Carregar CSV se necessário\n",
        "df = pd.read_csv(csv_path)\n",
        "\n",
        "# Remove registros pouco relevantes (ajuste o threshold)\n",
        "df = df[df[\"to_fraction\"] > 0.01]\n",
        "\n",
        "# Extrai a chave principal (tudo antes de ':')\n",
        "df[\"main_key\"] = df[\"other_key\"].str.split(\":\").str[0]\n",
        "\n",
        "# Ordena do maior para menor\n",
        "df = df.sort_values(by=\"together_count\", ascending=False)\n",
        "\n",
        "# Filtrar apenas os top-N\n",
        "top_n = 30\n",
        "df_plot = df.head(top_n)\n",
        "\n",
        "# Agrupamento apenas pela key principal\n",
        "df_plot = df_plot.groupby(\"main_key\", as_index=False)[\"together_count\"].sum()\n",
        "\n",
        "# TreeMap com cores aleatórias (deixar o Plotly escolher)\n",
        "fig = px.treemap(\n",
        "    df_plot,\n",
        "    path=[\"main_key\"],  # agrupamento só pela key principal\n",
        "    values=\"together_count\",\n",
        "    color=\"main_key\",\n",
        "    title=\"TreeMap: Top 30 keys com 'name' no OSM Brasil (data: 2025-06-23)\",\n",
        ")\n",
        "\n",
        "# Key em negrito\n",
        "fig.update_traces(\n",
        "    texttemplate=\"<b>%{label}</b><br>%{value:,}\",\n",
        "    textfont=dict(size=12),\n",
        "    marker=dict(line=dict(width=0.2, color='white'))\n",
        ")\n",
        "\n",
        "# Remover eixos para gráfico mais clean\n",
        "fig.update_xaxes(visible=False)\n",
        "fig.update_yaxes(visible=False)\n",
        "\n",
        "# Margens ajustadas\n",
        "fig.update_layout(margin=dict(t=60, l=25, r=25, b=40))\n",
        "\n",
        "fig.show()"
      ]
    },
    {
      "cell_type": "code",
      "execution_count": null,
      "metadata": {},
      "outputs": [
        {
          "data": {
            "application/vnd.plotly.v1+json": {
              "config": {
                "plotlyServerURL": "https://plot.ly"
              },
              "data": [
                {
                  "branchvalues": "total",
                  "customdata": [
                    [
                      "access"
                    ],
                    [
                      "addr"
                    ],
                    [
                      "alt_name"
                    ],
                    [
                      "amenity"
                    ],
                    [
                      "building"
                    ],
                    [
                      "highway"
                    ],
                    [
                      "landuse"
                    ],
                    [
                      "lanes"
                    ],
                    [
                      "layer"
                    ],
                    [
                      "leisure"
                    ],
                    [
                      "lit"
                    ],
                    [
                      "maxspeed"
                    ],
                    [
                      "oneway"
                    ],
                    [
                      "operator"
                    ],
                    [
                      "phone"
                    ],
                    [
                      "place"
                    ],
                    [
                      "postal_code"
                    ],
                    [
                      "public_transport"
                    ],
                    [
                      "ref"
                    ],
                    [
                      "shop"
                    ],
                    [
                      "sidewalk"
                    ],
                    [
                      "source"
                    ],
                    [
                      "surface"
                    ],
                    [
                      "type"
                    ],
                    [
                      "waterway"
                    ]
                  ],
                  "domain": {
                    "x": [
                      0,
                      1
                    ],
                    "y": [
                      0,
                      1
                    ]
                  },
                  "hovertemplate": "labels=%{label}<br>together_count=%{value}<br>parent=%{parent}<br>id=%{id}<br>main_key=%{customdata[0]}<extra></extra>",
                  "ids": [
                    "access",
                    "addr",
                    "alt_name",
                    "amenity",
                    "building",
                    "highway",
                    "landuse",
                    "lanes",
                    "layer",
                    "leisure",
                    "lit",
                    "maxspeed",
                    "oneway",
                    "operator",
                    "phone",
                    "place",
                    "postal_code",
                    "public_transport",
                    "ref",
                    "shop",
                    "sidewalk",
                    "source",
                    "surface",
                    "type",
                    "waterway"
                  ],
                  "labels": [
                    "access",
                    "addr",
                    "alt_name",
                    "amenity",
                    "building",
                    "highway",
                    "landuse",
                    "lanes",
                    "layer",
                    "leisure",
                    "lit",
                    "maxspeed",
                    "oneway",
                    "operator",
                    "phone",
                    "place",
                    "postal_code",
                    "public_transport",
                    "ref",
                    "shop",
                    "sidewalk",
                    "source",
                    "surface",
                    "type",
                    "waterway"
                  ],
                  "marker": {
                    "colors": [
                      "#3c4b2b",
                      "#860797",
                      "#8544b3",
                      "#e47de8",
                      "#6ddc2c",
                      "#923721",
                      "#fb7e97",
                      "#667dc6",
                      "#3eca55",
                      "#457e31",
                      "#25ea26",
                      "#e77223",
                      "#58666a",
                      "#e3e59d",
                      "#2cf2e8",
                      "#a3a102",
                      "#b1e1ba",
                      "#213fb1",
                      "#94aa5d",
                      "#9993eb",
                      "#50a487",
                      "#592274",
                      "#b91580",
                      "#72cfcc",
                      "#3e2338"
                    ],
                    "line": {
                      "color": "white",
                      "width": 0.1
                    }
                  },
                  "name": "",
                  "parents": [
                    "",
                    "",
                    "",
                    "",
                    "",
                    "",
                    "",
                    "",
                    "",
                    "",
                    "",
                    "",
                    "",
                    "",
                    "",
                    "",
                    "",
                    "",
                    "",
                    "",
                    "",
                    "",
                    "",
                    "",
                    ""
                  ],
                  "textfont": {
                    "size": 11
                  },
                  "texttemplate": "<b>%{label}</b><br>%{value:,}",
                  "type": "treemap",
                  "values": {
                    "bdata": "AAAAABBy9EAAAAAABo0tQQAAAABMnRNBAAAAAOQTEUEAAAAAmNgNQQAAAADlr0RBAAAAABBD90AAAAAAhEwYQQAAAAAAZ/hAAAAAANDp8UAAAAAAALYFQQAAAABcmBVBAAAAANwYKUEAAAAA0Lr5QAAAAAAwDfFAAAAAAAC3DEEAAAAAkFr3QAAAAACgQepAAAAAAHCTCUEAAAAA0CYAQQAAAAAAh+1AAAAAAAZbK0EAAAAAo5gxQQAAAADwj/BAAAAAABRMEEE=",
                    "dtype": "f8"
                  }
                }
              ],
              "layout": {
                "legend": {
                  "tracegroupgap": 0
                },
                "margin": {
                  "b": 40,
                  "l": 25,
                  "r": 25,
                  "t": 60
                },
                "template": {
                  "data": {
                    "bar": [
                      {
                        "error_x": {
                          "color": "#2a3f5f"
                        },
                        "error_y": {
                          "color": "#2a3f5f"
                        },
                        "marker": {
                          "line": {
                            "color": "#E5ECF6",
                            "width": 0.5
                          },
                          "pattern": {
                            "fillmode": "overlay",
                            "size": 10,
                            "solidity": 0.2
                          }
                        },
                        "type": "bar"
                      }
                    ],
                    "barpolar": [
                      {
                        "marker": {
                          "line": {
                            "color": "#E5ECF6",
                            "width": 0.5
                          },
                          "pattern": {
                            "fillmode": "overlay",
                            "size": 10,
                            "solidity": 0.2
                          }
                        },
                        "type": "barpolar"
                      }
                    ],
                    "carpet": [
                      {
                        "aaxis": {
                          "endlinecolor": "#2a3f5f",
                          "gridcolor": "white",
                          "linecolor": "white",
                          "minorgridcolor": "white",
                          "startlinecolor": "#2a3f5f"
                        },
                        "baxis": {
                          "endlinecolor": "#2a3f5f",
                          "gridcolor": "white",
                          "linecolor": "white",
                          "minorgridcolor": "white",
                          "startlinecolor": "#2a3f5f"
                        },
                        "type": "carpet"
                      }
                    ],
                    "choropleth": [
                      {
                        "colorbar": {
                          "outlinewidth": 0,
                          "ticks": ""
                        },
                        "type": "choropleth"
                      }
                    ],
                    "contour": [
                      {
                        "colorbar": {
                          "outlinewidth": 0,
                          "ticks": ""
                        },
                        "colorscale": [
                          [
                            0,
                            "#0d0887"
                          ],
                          [
                            0.1111111111111111,
                            "#46039f"
                          ],
                          [
                            0.2222222222222222,
                            "#7201a8"
                          ],
                          [
                            0.3333333333333333,
                            "#9c179e"
                          ],
                          [
                            0.4444444444444444,
                            "#bd3786"
                          ],
                          [
                            0.5555555555555556,
                            "#d8576b"
                          ],
                          [
                            0.6666666666666666,
                            "#ed7953"
                          ],
                          [
                            0.7777777777777778,
                            "#fb9f3a"
                          ],
                          [
                            0.8888888888888888,
                            "#fdca26"
                          ],
                          [
                            1,
                            "#f0f921"
                          ]
                        ],
                        "type": "contour"
                      }
                    ],
                    "contourcarpet": [
                      {
                        "colorbar": {
                          "outlinewidth": 0,
                          "ticks": ""
                        },
                        "type": "contourcarpet"
                      }
                    ],
                    "heatmap": [
                      {
                        "colorbar": {
                          "outlinewidth": 0,
                          "ticks": ""
                        },
                        "colorscale": [
                          [
                            0,
                            "#0d0887"
                          ],
                          [
                            0.1111111111111111,
                            "#46039f"
                          ],
                          [
                            0.2222222222222222,
                            "#7201a8"
                          ],
                          [
                            0.3333333333333333,
                            "#9c179e"
                          ],
                          [
                            0.4444444444444444,
                            "#bd3786"
                          ],
                          [
                            0.5555555555555556,
                            "#d8576b"
                          ],
                          [
                            0.6666666666666666,
                            "#ed7953"
                          ],
                          [
                            0.7777777777777778,
                            "#fb9f3a"
                          ],
                          [
                            0.8888888888888888,
                            "#fdca26"
                          ],
                          [
                            1,
                            "#f0f921"
                          ]
                        ],
                        "type": "heatmap"
                      }
                    ],
                    "histogram": [
                      {
                        "marker": {
                          "pattern": {
                            "fillmode": "overlay",
                            "size": 10,
                            "solidity": 0.2
                          }
                        },
                        "type": "histogram"
                      }
                    ],
                    "histogram2d": [
                      {
                        "colorbar": {
                          "outlinewidth": 0,
                          "ticks": ""
                        },
                        "colorscale": [
                          [
                            0,
                            "#0d0887"
                          ],
                          [
                            0.1111111111111111,
                            "#46039f"
                          ],
                          [
                            0.2222222222222222,
                            "#7201a8"
                          ],
                          [
                            0.3333333333333333,
                            "#9c179e"
                          ],
                          [
                            0.4444444444444444,
                            "#bd3786"
                          ],
                          [
                            0.5555555555555556,
                            "#d8576b"
                          ],
                          [
                            0.6666666666666666,
                            "#ed7953"
                          ],
                          [
                            0.7777777777777778,
                            "#fb9f3a"
                          ],
                          [
                            0.8888888888888888,
                            "#fdca26"
                          ],
                          [
                            1,
                            "#f0f921"
                          ]
                        ],
                        "type": "histogram2d"
                      }
                    ],
                    "histogram2dcontour": [
                      {
                        "colorbar": {
                          "outlinewidth": 0,
                          "ticks": ""
                        },
                        "colorscale": [
                          [
                            0,
                            "#0d0887"
                          ],
                          [
                            0.1111111111111111,
                            "#46039f"
                          ],
                          [
                            0.2222222222222222,
                            "#7201a8"
                          ],
                          [
                            0.3333333333333333,
                            "#9c179e"
                          ],
                          [
                            0.4444444444444444,
                            "#bd3786"
                          ],
                          [
                            0.5555555555555556,
                            "#d8576b"
                          ],
                          [
                            0.6666666666666666,
                            "#ed7953"
                          ],
                          [
                            0.7777777777777778,
                            "#fb9f3a"
                          ],
                          [
                            0.8888888888888888,
                            "#fdca26"
                          ],
                          [
                            1,
                            "#f0f921"
                          ]
                        ],
                        "type": "histogram2dcontour"
                      }
                    ],
                    "mesh3d": [
                      {
                        "colorbar": {
                          "outlinewidth": 0,
                          "ticks": ""
                        },
                        "type": "mesh3d"
                      }
                    ],
                    "parcoords": [
                      {
                        "line": {
                          "colorbar": {
                            "outlinewidth": 0,
                            "ticks": ""
                          }
                        },
                        "type": "parcoords"
                      }
                    ],
                    "pie": [
                      {
                        "automargin": true,
                        "type": "pie"
                      }
                    ],
                    "scatter": [
                      {
                        "fillpattern": {
                          "fillmode": "overlay",
                          "size": 10,
                          "solidity": 0.2
                        },
                        "type": "scatter"
                      }
                    ],
                    "scatter3d": [
                      {
                        "line": {
                          "colorbar": {
                            "outlinewidth": 0,
                            "ticks": ""
                          }
                        },
                        "marker": {
                          "colorbar": {
                            "outlinewidth": 0,
                            "ticks": ""
                          }
                        },
                        "type": "scatter3d"
                      }
                    ],
                    "scattercarpet": [
                      {
                        "marker": {
                          "colorbar": {
                            "outlinewidth": 0,
                            "ticks": ""
                          }
                        },
                        "type": "scattercarpet"
                      }
                    ],
                    "scattergeo": [
                      {
                        "marker": {
                          "colorbar": {
                            "outlinewidth": 0,
                            "ticks": ""
                          }
                        },
                        "type": "scattergeo"
                      }
                    ],
                    "scattergl": [
                      {
                        "marker": {
                          "colorbar": {
                            "outlinewidth": 0,
                            "ticks": ""
                          }
                        },
                        "type": "scattergl"
                      }
                    ],
                    "scattermap": [
                      {
                        "marker": {
                          "colorbar": {
                            "outlinewidth": 0,
                            "ticks": ""
                          }
                        },
                        "type": "scattermap"
                      }
                    ],
                    "scattermapbox": [
                      {
                        "marker": {
                          "colorbar": {
                            "outlinewidth": 0,
                            "ticks": ""
                          }
                        },
                        "type": "scattermapbox"
                      }
                    ],
                    "scatterpolar": [
                      {
                        "marker": {
                          "colorbar": {
                            "outlinewidth": 0,
                            "ticks": ""
                          }
                        },
                        "type": "scatterpolar"
                      }
                    ],
                    "scatterpolargl": [
                      {
                        "marker": {
                          "colorbar": {
                            "outlinewidth": 0,
                            "ticks": ""
                          }
                        },
                        "type": "scatterpolargl"
                      }
                    ],
                    "scatterternary": [
                      {
                        "marker": {
                          "colorbar": {
                            "outlinewidth": 0,
                            "ticks": ""
                          }
                        },
                        "type": "scatterternary"
                      }
                    ],
                    "surface": [
                      {
                        "colorbar": {
                          "outlinewidth": 0,
                          "ticks": ""
                        },
                        "colorscale": [
                          [
                            0,
                            "#0d0887"
                          ],
                          [
                            0.1111111111111111,
                            "#46039f"
                          ],
                          [
                            0.2222222222222222,
                            "#7201a8"
                          ],
                          [
                            0.3333333333333333,
                            "#9c179e"
                          ],
                          [
                            0.4444444444444444,
                            "#bd3786"
                          ],
                          [
                            0.5555555555555556,
                            "#d8576b"
                          ],
                          [
                            0.6666666666666666,
                            "#ed7953"
                          ],
                          [
                            0.7777777777777778,
                            "#fb9f3a"
                          ],
                          [
                            0.8888888888888888,
                            "#fdca26"
                          ],
                          [
                            1,
                            "#f0f921"
                          ]
                        ],
                        "type": "surface"
                      }
                    ],
                    "table": [
                      {
                        "cells": {
                          "fill": {
                            "color": "#EBF0F8"
                          },
                          "line": {
                            "color": "white"
                          }
                        },
                        "header": {
                          "fill": {
                            "color": "#C8D4E3"
                          },
                          "line": {
                            "color": "white"
                          }
                        },
                        "type": "table"
                      }
                    ]
                  },
                  "layout": {
                    "annotationdefaults": {
                      "arrowcolor": "#2a3f5f",
                      "arrowhead": 0,
                      "arrowwidth": 1
                    },
                    "autotypenumbers": "strict",
                    "coloraxis": {
                      "colorbar": {
                        "outlinewidth": 0,
                        "ticks": ""
                      }
                    },
                    "colorscale": {
                      "diverging": [
                        [
                          0,
                          "#8e0152"
                        ],
                        [
                          0.1,
                          "#c51b7d"
                        ],
                        [
                          0.2,
                          "#de77ae"
                        ],
                        [
                          0.3,
                          "#f1b6da"
                        ],
                        [
                          0.4,
                          "#fde0ef"
                        ],
                        [
                          0.5,
                          "#f7f7f7"
                        ],
                        [
                          0.6,
                          "#e6f5d0"
                        ],
                        [
                          0.7,
                          "#b8e186"
                        ],
                        [
                          0.8,
                          "#7fbc41"
                        ],
                        [
                          0.9,
                          "#4d9221"
                        ],
                        [
                          1,
                          "#276419"
                        ]
                      ],
                      "sequential": [
                        [
                          0,
                          "#0d0887"
                        ],
                        [
                          0.1111111111111111,
                          "#46039f"
                        ],
                        [
                          0.2222222222222222,
                          "#7201a8"
                        ],
                        [
                          0.3333333333333333,
                          "#9c179e"
                        ],
                        [
                          0.4444444444444444,
                          "#bd3786"
                        ],
                        [
                          0.5555555555555556,
                          "#d8576b"
                        ],
                        [
                          0.6666666666666666,
                          "#ed7953"
                        ],
                        [
                          0.7777777777777778,
                          "#fb9f3a"
                        ],
                        [
                          0.8888888888888888,
                          "#fdca26"
                        ],
                        [
                          1,
                          "#f0f921"
                        ]
                      ],
                      "sequentialminus": [
                        [
                          0,
                          "#0d0887"
                        ],
                        [
                          0.1111111111111111,
                          "#46039f"
                        ],
                        [
                          0.2222222222222222,
                          "#7201a8"
                        ],
                        [
                          0.3333333333333333,
                          "#9c179e"
                        ],
                        [
                          0.4444444444444444,
                          "#bd3786"
                        ],
                        [
                          0.5555555555555556,
                          "#d8576b"
                        ],
                        [
                          0.6666666666666666,
                          "#ed7953"
                        ],
                        [
                          0.7777777777777778,
                          "#fb9f3a"
                        ],
                        [
                          0.8888888888888888,
                          "#fdca26"
                        ],
                        [
                          1,
                          "#f0f921"
                        ]
                      ]
                    },
                    "colorway": [
                      "#636efa",
                      "#EF553B",
                      "#00cc96",
                      "#ab63fa",
                      "#FFA15A",
                      "#19d3f3",
                      "#FF6692",
                      "#B6E880",
                      "#FF97FF",
                      "#FECB52"
                    ],
                    "font": {
                      "color": "#2a3f5f"
                    },
                    "geo": {
                      "bgcolor": "white",
                      "lakecolor": "white",
                      "landcolor": "#E5ECF6",
                      "showlakes": true,
                      "showland": true,
                      "subunitcolor": "white"
                    },
                    "hoverlabel": {
                      "align": "left"
                    },
                    "hovermode": "closest",
                    "mapbox": {
                      "style": "light"
                    },
                    "paper_bgcolor": "white",
                    "plot_bgcolor": "#E5ECF6",
                    "polar": {
                      "angularaxis": {
                        "gridcolor": "white",
                        "linecolor": "white",
                        "ticks": ""
                      },
                      "bgcolor": "#E5ECF6",
                      "radialaxis": {
                        "gridcolor": "white",
                        "linecolor": "white",
                        "ticks": ""
                      }
                    },
                    "scene": {
                      "xaxis": {
                        "backgroundcolor": "#E5ECF6",
                        "gridcolor": "white",
                        "gridwidth": 2,
                        "linecolor": "white",
                        "showbackground": true,
                        "ticks": "",
                        "zerolinecolor": "white"
                      },
                      "yaxis": {
                        "backgroundcolor": "#E5ECF6",
                        "gridcolor": "white",
                        "gridwidth": 2,
                        "linecolor": "white",
                        "showbackground": true,
                        "ticks": "",
                        "zerolinecolor": "white"
                      },
                      "zaxis": {
                        "backgroundcolor": "#E5ECF6",
                        "gridcolor": "white",
                        "gridwidth": 2,
                        "linecolor": "white",
                        "showbackground": true,
                        "ticks": "",
                        "zerolinecolor": "white"
                      }
                    },
                    "shapedefaults": {
                      "line": {
                        "color": "#2a3f5f"
                      }
                    },
                    "ternary": {
                      "aaxis": {
                        "gridcolor": "white",
                        "linecolor": "white",
                        "ticks": ""
                      },
                      "baxis": {
                        "gridcolor": "white",
                        "linecolor": "white",
                        "ticks": ""
                      },
                      "bgcolor": "#E5ECF6",
                      "caxis": {
                        "gridcolor": "white",
                        "linecolor": "white",
                        "ticks": ""
                      }
                    },
                    "title": {
                      "x": 0.05
                    },
                    "xaxis": {
                      "automargin": true,
                      "gridcolor": "white",
                      "linecolor": "white",
                      "ticks": "",
                      "title": {
                        "standoff": 15
                      },
                      "zerolinecolor": "white",
                      "zerolinewidth": 2
                    },
                    "yaxis": {
                      "automargin": true,
                      "gridcolor": "white",
                      "linecolor": "white",
                      "ticks": "",
                      "title": {
                        "standoff": 15
                      },
                      "zerolinecolor": "white",
                      "zerolinewidth": 2
                    }
                  }
                },
                "title": {
                  "text": "TreeMap: Top 30 das combinações 'name' + outras tags no OSM Brasil (data: 2025-06-23)"
                },
                "xaxis": {
                  "visible": false
                },
                "yaxis": {
                  "visible": false
                }
              }
            }
          },
          "metadata": {},
          "output_type": "display_data"
        }
      ],
      "source": [
        "# == 3rd VERSION using Plotly ===\n",
        "# Improved version to generate a TreeMap with only the main key using Plotly Express and random colors\n",
        "\n",
        "from pathlib import Path\n",
        "import plotly.express as px\n",
        "import random\n",
        "import pandas as pd\n",
        "\n",
        "# Carregar CSV se necessário\n",
        "df = pd.read_csv('results/0_taginfo/combinacoes_name_brasil_taginfo.csv')\n",
        "\n",
        "# Remove registros pouco relevantes (ajuste o threshold)\n",
        "df = df[df[\"to_fraction\"] > 0.01]\n",
        "\n",
        "# Extrai a chave principal (tudo antes de ':')\n",
        "df[\"main_key\"] = df[\"other_key\"].str.split(\":\").str[0]\n",
        "\n",
        "# Ordena do maior para menor\n",
        "df = df.sort_values(by=\"together_count\", ascending=False)\n",
        "\n",
        "# Filtrar apenas os top-N\n",
        "top_n = 30\n",
        "df_plot = df.head(top_n)\n",
        "\n",
        "# Agrupamento apenas pela key principal\n",
        "df_plot = df_plot.groupby(\"main_key\", as_index=False)[\"together_count\"].sum()\n",
        "\n",
        "# Gerar cores hex únicas e aleatórias\n",
        "def random_color():\n",
        "    return \"#{:06x}\".format(random.randint(0, 0xFFFFFF))\n",
        "\n",
        "unique_keys = df_plot[\"main_key\"].unique()\n",
        "# random.seed(42)  # Para reprodutibilidade!\n",
        "colors = [random_color() for _ in unique_keys]\n",
        "color_map = dict(zip(unique_keys, colors))\n",
        "\n",
        "# TreeMap com cores aleatórias\n",
        "fig = px.treemap(\n",
        "    df_plot,\n",
        "    path=[\"main_key\"],\n",
        "    values=\"together_count\",\n",
        "    color=\"main_key\",\n",
        "    color_discrete_map=color_map,\n",
        "    title=\"TreeMap: Top 30 das combinações 'name' + outras tags no OSM Brasil (data: 2025-06-23)\",\n",
        ")\n",
        "\n",
        "# Key em negrito\n",
        "fig.update_traces(\n",
        "    texttemplate=\"<b>%{label}</b><br>%{value:,}\",\n",
        "    textfont=dict(size=11),\n",
        "    marker=dict(line=dict(width=0.1, color='white'))\n",
        ")\n",
        "\n",
        "# Remover eixos\n",
        "fig.update_xaxes(visible=False)\n",
        "fig.update_yaxes(visible=False)\n",
        "\n",
        "# Margens ajustadas\n",
        "fig.update_layout(margin=dict(t=60, l=25, r=25, b=40))\n",
        "\n",
        "fig.show()"
      ]
    },
    {
      "cell_type": "code",
      "execution_count": 70,
      "metadata": {},
      "outputs": [],
      "source": [
        "# SALVAR FIGURA EM 300dpi\n",
        "# Requer \"kaleido\" instalado: pip install -U kaleido\n",
        "fig.write_image(os.path.join(\"results\", \"0_taginfo\", \"treemap_top30_keys_brasil_2025-06-23.png\"), format=\"png\", scale=3)  # PNG 300dpi aprox"
      ]
    },
    {
      "cell_type": "markdown",
      "metadata": {},
      "source": [
        "#### TreeMap using Matplotlib and Squarify"
      ]
    },
    {
      "cell_type": "code",
      "execution_count": null,
      "metadata": {},
      "outputs": [],
      "source": [
        "# == 1st VERSION using Matplotlib and Squarify ===\n",
        "# Generate a TreeMap with only the main key using Squarify\n",
        "\n",
        "import pandas as pd\n",
        "import squarify\n",
        "import matplotlib.pyplot as plt\n",
        "\n",
        "# df = pd.read_csv('path.csv')\n",
        "\n",
        "df = df[df[\"to_fraction\"] > 0.01]\n",
        "df[\"main_key\"] = df[\"other_key\"].str.split(\":\").str[0]\n",
        "df_grouped = df.groupby(\"main_key\", as_index=False)[\"together_count\"].sum()\n",
        "df_grouped = df_grouped.sort_values(\"together_count\", ascending=False).head(30)\n",
        "\n",
        "# Cores automáticas, mas você pode customizar\n",
        "cmap = plt.get_cmap('tab20')\n",
        "colors = [cmap(i) for i in range(len(df_grouped))]\n",
        "\n",
        "# TreeMap\n",
        "fig, ax = plt.subplots(figsize=(14, 8))\n",
        "squarify.plot(\n",
        "    sizes=df_grouped[\"together_count\"],\n",
        "    label=[f\"{k}\\n{v:,}\" for k,v in zip(df_grouped[\"main_key\"], df_grouped[\"together_count\"])],\n",
        "    color=colors,\n",
        "    alpha=.65,\n",
        "    text_kwargs={'fontsize':12, 'weight':'bold'}\n",
        "    , ax=ax\n",
        ")\n",
        "plt.axis('off')\n",
        "plt.title(\"TreeMap: Top 30 keys com 'name' no OSM Brasil (data: 2025-06-23)\", fontsize=20, weight='bold')\n",
        "plt.tight_layout()\n",
        "\n",
        "# Salvar em 300dpi\n",
        "#plt.savefig(\"/results/0_taginfo+treemap_brasil_2025-06-23.png\", dpi=300)"
      ]
    }
  ],
  "metadata": {
    "colab": {
      "provenance": [],
      "toc_visible": true
    },
    "kernelspec": {
      "display_name": "env-DScPythonGeo",
      "language": "python",
      "name": "python3"
    },
    "language_info": {
      "codemirror_mode": {
        "name": "ipython",
        "version": 3
      },
      "file_extension": ".py",
      "mimetype": "text/x-python",
      "name": "python",
      "nbconvert_exporter": "python",
      "pygments_lexer": "ipython3",
      "version": "3.12.4"
    },
    "widgets": {
      "application/vnd.jupyter.widget-state+json": {
        "07f53fbef7864ac996721a0ea4b8830d": {
          "model_module": "@jupyter-widgets/controls",
          "model_module_version": "1.5.0",
          "model_name": "ButtonStyleModel",
          "state": {
            "_model_module": "@jupyter-widgets/controls",
            "_model_module_version": "1.5.0",
            "_model_name": "ButtonStyleModel",
            "_view_count": null,
            "_view_module": "@jupyter-widgets/base",
            "_view_module_version": "1.2.0",
            "_view_name": "StyleView",
            "button_color": null,
            "font_weight": ""
          }
        },
        "07f5d4315d124ebea7a49f15e896e37b": {
          "model_module": "@jupyter-widgets/base",
          "model_module_version": "1.2.0",
          "model_name": "LayoutModel",
          "state": {
            "_model_module": "@jupyter-widgets/base",
            "_model_module_version": "1.2.0",
            "_model_name": "LayoutModel",
            "_view_count": null,
            "_view_module": "@jupyter-widgets/base",
            "_view_module_version": "1.2.0",
            "_view_name": "LayoutView",
            "align_content": null,
            "align_items": null,
            "align_self": null,
            "border": null,
            "bottom": null,
            "display": null,
            "flex": null,
            "flex_flow": null,
            "grid_area": null,
            "grid_auto_columns": null,
            "grid_auto_flow": null,
            "grid_auto_rows": null,
            "grid_column": null,
            "grid_gap": null,
            "grid_row": null,
            "grid_template_areas": null,
            "grid_template_columns": null,
            "grid_template_rows": null,
            "height": "30px",
            "justify_content": null,
            "justify_items": null,
            "left": null,
            "margin": null,
            "max_height": null,
            "max_width": null,
            "min_height": null,
            "min_width": null,
            "object_fit": null,
            "object_position": null,
            "order": null,
            "overflow": null,
            "overflow_x": null,
            "overflow_y": null,
            "padding": null,
            "right": null,
            "top": null,
            "visibility": null,
            "width": "30%"
          }
        },
        "0a11a5c05d804da3a0013bf58032d17f": {
          "model_module": "@jupyter-widgets/base",
          "model_module_version": "1.2.0",
          "model_name": "LayoutModel",
          "state": {
            "_model_module": "@jupyter-widgets/base",
            "_model_module_version": "1.2.0",
            "_model_name": "LayoutModel",
            "_view_count": null,
            "_view_module": "@jupyter-widgets/base",
            "_view_module_version": "1.2.0",
            "_view_name": "LayoutView",
            "align_content": null,
            "align_items": null,
            "align_self": null,
            "border": null,
            "bottom": null,
            "display": null,
            "flex": null,
            "flex_flow": null,
            "grid_area": null,
            "grid_auto_columns": null,
            "grid_auto_flow": null,
            "grid_auto_rows": null,
            "grid_column": null,
            "grid_gap": null,
            "grid_row": null,
            "grid_template_areas": null,
            "grid_template_columns": null,
            "grid_template_rows": null,
            "height": null,
            "justify_content": null,
            "justify_items": null,
            "left": null,
            "margin": null,
            "max_height": null,
            "max_width": null,
            "min_height": null,
            "min_width": null,
            "object_fit": null,
            "object_position": null,
            "order": null,
            "overflow": null,
            "overflow_x": null,
            "overflow_y": null,
            "padding": null,
            "right": null,
            "top": null,
            "visibility": null,
            "width": null
          }
        },
        "0ed0928f093d44a7a61a295c1141a190": {
          "model_module": "@jupyter-widgets/controls",
          "model_module_version": "1.5.0",
          "model_name": "DescriptionStyleModel",
          "state": {
            "_model_module": "@jupyter-widgets/controls",
            "_model_module_version": "1.5.0",
            "_model_name": "DescriptionStyleModel",
            "_view_count": null,
            "_view_module": "@jupyter-widgets/base",
            "_view_module_version": "1.2.0",
            "_view_name": "StyleView",
            "description_width": ""
          }
        },
        "137e54b6eca44268a58671b67e546da5": {
          "model_module": "@jupyter-widgets/controls",
          "model_module_version": "1.5.0",
          "model_name": "DropdownModel",
          "state": {
            "_dom_classes": [],
            "_model_module": "@jupyter-widgets/controls",
            "_model_module_version": "1.5.0",
            "_model_name": "DropdownModel",
            "_options_labels": [
              "geometry",
              "id",
              "POP10",
              "leisure_total_count",
              "leisure_name_count",
              "leisure_name_ratio",
              "building_total_count",
              "building_name_count",
              "building_name_ratio",
              "amenity_total_count",
              "amenity_name_count",
              "amenity_name_ratio",
              "leisure_total_contributions",
              "leisure_name_contributions",
              "building_total_contributions",
              "building_name_contributions",
              "amenity_total_contributions",
              "amenity_name_contributions",
              "leisure_latest5_name_contributions",
              "building_latest5_name_contributions",
              "amenity_latest5_name_contributions",
              "leisure_name_tagChange_contributions",
              "building_name_tagChange_contributions",
              "amenity_name_tagChange_contributions",
              "leisure_users_count_name",
              "building_users_count_name",
              "amenity_users_count_name"
            ],
            "_view_count": null,
            "_view_module": "@jupyter-widgets/controls",
            "_view_module_version": "1.5.0",
            "_view_name": "DropdownView",
            "description": "Column:",
            "description_tooltip": null,
            "disabled": false,
            "index": 8,
            "layout": "IPY_MODEL_937d8fd7b94f4ed8898c7ae588529350",
            "style": "IPY_MODEL_0ed0928f093d44a7a61a295c1141a190"
          }
        },
        "13aa24f80e86483a8d7a0c9e517f1002": {
          "model_module": "@jupyter-widgets/controls",
          "model_module_version": "1.5.0",
          "model_name": "ButtonStyleModel",
          "state": {
            "_model_module": "@jupyter-widgets/controls",
            "_model_module_version": "1.5.0",
            "_model_name": "ButtonStyleModel",
            "_view_count": null,
            "_view_module": "@jupyter-widgets/base",
            "_view_module_version": "1.2.0",
            "_view_name": "StyleView",
            "button_color": null,
            "font_weight": ""
          }
        },
        "15e2d21aee5e491bae2e3977f9617280": {
          "model_module": "@jupyter-widgets/base",
          "model_module_version": "1.2.0",
          "model_name": "LayoutModel",
          "state": {
            "_model_module": "@jupyter-widgets/base",
            "_model_module_version": "1.2.0",
            "_model_name": "LayoutModel",
            "_view_count": null,
            "_view_module": "@jupyter-widgets/base",
            "_view_module_version": "1.2.0",
            "_view_name": "LayoutView",
            "align_content": null,
            "align_items": null,
            "align_self": null,
            "border": null,
            "bottom": null,
            "display": null,
            "flex": null,
            "flex_flow": null,
            "grid_area": null,
            "grid_auto_columns": null,
            "grid_auto_flow": null,
            "grid_auto_rows": null,
            "grid_column": null,
            "grid_gap": null,
            "grid_row": null,
            "grid_template_areas": null,
            "grid_template_columns": null,
            "grid_template_rows": null,
            "height": "200px",
            "justify_content": null,
            "justify_items": null,
            "left": null,
            "margin": null,
            "max_height": null,
            "max_width": null,
            "min_height": null,
            "min_width": null,
            "object_fit": null,
            "object_position": null,
            "order": null,
            "overflow": null,
            "overflow_x": null,
            "overflow_y": null,
            "padding": null,
            "right": null,
            "top": null,
            "visibility": null,
            "width": "50%"
          }
        },
        "18d7e47472e042838f2aed1a8c691986": {
          "model_module": "@jupyter-widgets/base",
          "model_module_version": "1.2.0",
          "model_name": "LayoutModel",
          "state": {
            "_model_module": "@jupyter-widgets/base",
            "_model_module_version": "1.2.0",
            "_model_name": "LayoutModel",
            "_view_count": null,
            "_view_module": "@jupyter-widgets/base",
            "_view_module_version": "1.2.0",
            "_view_name": "LayoutView",
            "align_content": null,
            "align_items": null,
            "align_self": null,
            "border": null,
            "bottom": null,
            "display": null,
            "flex": null,
            "flex_flow": null,
            "grid_area": null,
            "grid_auto_columns": null,
            "grid_auto_flow": null,
            "grid_auto_rows": null,
            "grid_column": null,
            "grid_gap": null,
            "grid_row": null,
            "grid_template_areas": null,
            "grid_template_columns": null,
            "grid_template_rows": null,
            "height": "150px",
            "justify_content": null,
            "justify_items": null,
            "left": null,
            "margin": null,
            "max_height": null,
            "max_width": null,
            "min_height": null,
            "min_width": null,
            "object_fit": null,
            "object_position": null,
            "order": null,
            "overflow": null,
            "overflow_x": null,
            "overflow_y": null,
            "padding": null,
            "right": null,
            "top": null,
            "visibility": null,
            "width": "30%"
          }
        },
        "1dac6305a41d4083a2269930b51e6052": {
          "model_module": "@jupyter-widgets/controls",
          "model_module_version": "1.5.0",
          "model_name": "ButtonStyleModel",
          "state": {
            "_model_module": "@jupyter-widgets/controls",
            "_model_module_version": "1.5.0",
            "_model_name": "ButtonStyleModel",
            "_view_count": null,
            "_view_module": "@jupyter-widgets/base",
            "_view_module_version": "1.2.0",
            "_view_name": "StyleView",
            "button_color": null,
            "font_weight": ""
          }
        },
        "1e6e160e6a4e454e8cb12ffdba37c4b0": {
          "model_module": "@jupyter-widgets/base",
          "model_module_version": "1.2.0",
          "model_name": "LayoutModel",
          "state": {
            "_model_module": "@jupyter-widgets/base",
            "_model_module_version": "1.2.0",
            "_model_name": "LayoutModel",
            "_view_count": null,
            "_view_module": "@jupyter-widgets/base",
            "_view_module_version": "1.2.0",
            "_view_name": "LayoutView",
            "align_content": null,
            "align_items": null,
            "align_self": null,
            "border": null,
            "bottom": null,
            "display": null,
            "flex": null,
            "flex_flow": null,
            "grid_area": null,
            "grid_auto_columns": null,
            "grid_auto_flow": null,
            "grid_auto_rows": null,
            "grid_column": null,
            "grid_gap": null,
            "grid_row": null,
            "grid_template_areas": null,
            "grid_template_columns": null,
            "grid_template_rows": null,
            "height": null,
            "justify_content": null,
            "justify_items": null,
            "left": null,
            "margin": null,
            "max_height": null,
            "max_width": null,
            "min_height": null,
            "min_width": null,
            "object_fit": null,
            "object_position": null,
            "order": null,
            "overflow": null,
            "overflow_x": null,
            "overflow_y": null,
            "padding": null,
            "right": null,
            "top": null,
            "visibility": null,
            "width": null
          }
        },
        "2004094e0b1949cda5dc370a3596273c": {
          "model_module": "@jupyter-widgets/controls",
          "model_module_version": "1.5.0",
          "model_name": "HBoxModel",
          "state": {
            "_dom_classes": [],
            "_model_module": "@jupyter-widgets/controls",
            "_model_module_version": "1.5.0",
            "_model_name": "HBoxModel",
            "_view_count": null,
            "_view_module": "@jupyter-widgets/controls",
            "_view_module_version": "1.5.0",
            "_view_name": "HBoxView",
            "box_style": "",
            "children": [
              "IPY_MODEL_b37edd6e5c074a45baf1ed59bc281b45",
              "IPY_MODEL_2dc437f27a3f4b70bdc12e2e1ad64e35"
            ],
            "layout": "IPY_MODEL_d41cbb73f95f451cad0a7629a365e87b"
          }
        },
        "25a76eae84284ccc94ec15604278d2e9": {
          "model_module": "@jupyter-widgets/controls",
          "model_module_version": "1.5.0",
          "model_name": "SelectMultipleModel",
          "state": {
            "_dom_classes": [],
            "_model_module": "@jupyter-widgets/controls",
            "_model_module_version": "1.5.0",
            "_model_name": "SelectMultipleModel",
            "_options_labels": [
              "id",
              "POP10",
              "leisure_total_count",
              "leisure_name_count",
              "leisure_name_ratio",
              "building_total_count",
              "building_name_count",
              "building_name_ratio",
              "amenity_total_count",
              "amenity_name_count",
              "amenity_name_ratio",
              "leisure_total_contributions",
              "leisure_name_contributions",
              "building_total_contributions",
              "building_name_contributions",
              "amenity_total_contributions",
              "amenity_name_contributions",
              "leisure_latest5_name_contributions",
              "building_latest5_name_contributions",
              "amenity_latest5_name_contributions",
              "leisure_name_tagChange_contributions",
              "building_name_tagChange_contributions",
              "amenity_name_tagChange_contributions",
              "leisure_users_count_name",
              "building_users_count_name",
              "amenity_users_count_name"
            ],
            "_view_count": null,
            "_view_module": "@jupyter-widgets/controls",
            "_view_module_version": "1.5.0",
            "_view_name": "SelectMultipleView",
            "description": "Independent Variables:",
            "description_tooltip": null,
            "disabled": false,
            "index": [
              19
            ],
            "layout": "IPY_MODEL_afaa7fbc8d63482b9873f1e40f252f3a",
            "rows": 5,
            "style": "IPY_MODEL_74e3d9f06d2c48c586143205146523de"
          }
        },
        "2d7e63402f3e4f24900d84dcd03eb168": {
          "model_module": "@jupyter-widgets/controls",
          "model_module_version": "1.5.0",
          "model_name": "ButtonModel",
          "state": {
            "_dom_classes": [],
            "_model_module": "@jupyter-widgets/controls",
            "_model_module_version": "1.5.0",
            "_model_name": "ButtonModel",
            "_view_count": null,
            "_view_module": "@jupyter-widgets/controls",
            "_view_module_version": "1.5.0",
            "_view_name": "ButtonView",
            "button_style": "",
            "description": "Analyze and Show Map",
            "disabled": false,
            "icon": "",
            "layout": "IPY_MODEL_92c6fc8e3c9b4122b75b24ee3f49c893",
            "style": "IPY_MODEL_98d762ac960941eaa053846066d6801f",
            "tooltip": ""
          }
        },
        "2dc437f27a3f4b70bdc12e2e1ad64e35": {
          "model_module": "@jupyter-widgets/controls",
          "model_module_version": "1.5.0",
          "model_name": "ButtonModel",
          "state": {
            "_dom_classes": [],
            "_model_module": "@jupyter-widgets/controls",
            "_model_module_version": "1.5.0",
            "_model_name": "ButtonModel",
            "_view_count": null,
            "_view_module": "@jupyter-widgets/controls",
            "_view_module_version": "1.5.0",
            "_view_name": "ButtonView",
            "button_style": "",
            "description": "Clear Results",
            "disabled": false,
            "icon": "",
            "layout": "IPY_MODEL_f1f8100ba9d84486af9614e044933992",
            "style": "IPY_MODEL_dfb4ae16f75e4f3ab7d5e2f208739937",
            "tooltip": ""
          }
        },
        "335a87e040184b188c9c447ad4c0bfd3": {
          "model_module": "@jupyter-widgets/base",
          "model_module_version": "1.2.0",
          "model_name": "LayoutModel",
          "state": {
            "_model_module": "@jupyter-widgets/base",
            "_model_module_version": "1.2.0",
            "_model_name": "LayoutModel",
            "_view_count": null,
            "_view_module": "@jupyter-widgets/base",
            "_view_module_version": "1.2.0",
            "_view_name": "LayoutView",
            "align_content": null,
            "align_items": null,
            "align_self": null,
            "border": null,
            "bottom": null,
            "display": null,
            "flex": null,
            "flex_flow": null,
            "grid_area": null,
            "grid_auto_columns": null,
            "grid_auto_flow": null,
            "grid_auto_rows": null,
            "grid_column": null,
            "grid_gap": null,
            "grid_row": null,
            "grid_template_areas": null,
            "grid_template_columns": null,
            "grid_template_rows": null,
            "height": null,
            "justify_content": null,
            "justify_items": null,
            "left": null,
            "margin": null,
            "max_height": null,
            "max_width": null,
            "min_height": null,
            "min_width": null,
            "object_fit": null,
            "object_position": null,
            "order": null,
            "overflow": null,
            "overflow_x": null,
            "overflow_y": null,
            "padding": null,
            "right": null,
            "top": null,
            "visibility": null,
            "width": null
          }
        },
        "350064cb41104a41b5c8dda476353c8e": {
          "model_module": "@jupyter-widgets/controls",
          "model_module_version": "1.5.0",
          "model_name": "ButtonStyleModel",
          "state": {
            "_model_module": "@jupyter-widgets/controls",
            "_model_module_version": "1.5.0",
            "_model_name": "ButtonStyleModel",
            "_view_count": null,
            "_view_module": "@jupyter-widgets/base",
            "_view_module_version": "1.2.0",
            "_view_name": "StyleView",
            "button_color": null,
            "font_weight": ""
          }
        },
        "3c82e82fb1bb4dae82f03b812eb5124d": {
          "model_module": "@jupyter-widgets/controls",
          "model_module_version": "1.5.0",
          "model_name": "HBoxModel",
          "state": {
            "_dom_classes": [],
            "_model_module": "@jupyter-widgets/controls",
            "_model_module_version": "1.5.0",
            "_model_name": "HBoxModel",
            "_view_count": null,
            "_view_module": "@jupyter-widgets/controls",
            "_view_module_version": "1.5.0",
            "_view_name": "HBoxView",
            "box_style": "",
            "children": [
              "IPY_MODEL_ce4e7a477c6d4f8c8ecb1b682ce323f5",
              "IPY_MODEL_9d4d5338297149a495bc599707e76441"
            ],
            "layout": "IPY_MODEL_d5958845923445689792a232752369e2"
          }
        },
        "45e7a987b6bb4de4b660e45cf123cc1a": {
          "model_module": "@jupyter-widgets/base",
          "model_module_version": "1.2.0",
          "model_name": "LayoutModel",
          "state": {
            "_model_module": "@jupyter-widgets/base",
            "_model_module_version": "1.2.0",
            "_model_name": "LayoutModel",
            "_view_count": null,
            "_view_module": "@jupyter-widgets/base",
            "_view_module_version": "1.2.0",
            "_view_name": "LayoutView",
            "align_content": null,
            "align_items": null,
            "align_self": null,
            "border": null,
            "bottom": null,
            "display": null,
            "flex": null,
            "flex_flow": null,
            "grid_area": null,
            "grid_auto_columns": null,
            "grid_auto_flow": null,
            "grid_auto_rows": null,
            "grid_column": null,
            "grid_gap": null,
            "grid_row": null,
            "grid_template_areas": null,
            "grid_template_columns": null,
            "grid_template_rows": null,
            "height": null,
            "justify_content": null,
            "justify_items": null,
            "left": null,
            "margin": null,
            "max_height": null,
            "max_width": null,
            "min_height": null,
            "min_width": null,
            "object_fit": null,
            "object_position": null,
            "order": null,
            "overflow": null,
            "overflow_x": null,
            "overflow_y": null,
            "padding": null,
            "right": null,
            "top": null,
            "visibility": null,
            "width": null
          }
        },
        "48bdfbc878b34320bae57bfbdc8ea849": {
          "model_module": "@jupyter-widgets/controls",
          "model_module_version": "1.5.0",
          "model_name": "DescriptionStyleModel",
          "state": {
            "_model_module": "@jupyter-widgets/controls",
            "_model_module_version": "1.5.0",
            "_model_name": "DescriptionStyleModel",
            "_view_count": null,
            "_view_module": "@jupyter-widgets/base",
            "_view_module_version": "1.2.0",
            "_view_name": "StyleView",
            "description_width": ""
          }
        },
        "493e60c1de264e1fafe2507d28c2e02b": {
          "model_module": "@jupyter-widgets/controls",
          "model_module_version": "1.5.0",
          "model_name": "ButtonStyleModel",
          "state": {
            "_model_module": "@jupyter-widgets/controls",
            "_model_module_version": "1.5.0",
            "_model_name": "ButtonStyleModel",
            "_view_count": null,
            "_view_module": "@jupyter-widgets/base",
            "_view_module_version": "1.2.0",
            "_view_name": "StyleView",
            "button_color": null,
            "font_weight": ""
          }
        },
        "4dcd6ce6f04344678e92e9106ca0558d": {
          "model_module": "@jupyter-widgets/controls",
          "model_module_version": "1.5.0",
          "model_name": "DescriptionStyleModel",
          "state": {
            "_model_module": "@jupyter-widgets/controls",
            "_model_module_version": "1.5.0",
            "_model_name": "DescriptionStyleModel",
            "_view_count": null,
            "_view_module": "@jupyter-widgets/base",
            "_view_module_version": "1.2.0",
            "_view_name": "StyleView",
            "description_width": ""
          }
        },
        "52e29267f7454ae79047537322f8e6fe": {
          "model_module": "@jupyter-widgets/controls",
          "model_module_version": "1.5.0",
          "model_name": "ButtonStyleModel",
          "state": {
            "_model_module": "@jupyter-widgets/controls",
            "_model_module_version": "1.5.0",
            "_model_name": "ButtonStyleModel",
            "_view_count": null,
            "_view_module": "@jupyter-widgets/base",
            "_view_module_version": "1.2.0",
            "_view_name": "StyleView",
            "button_color": null,
            "font_weight": ""
          }
        },
        "53432b40cfd147368b116ed5ee991f02": {
          "model_module": "@jupyter-widgets/base",
          "model_module_version": "1.2.0",
          "model_name": "LayoutModel",
          "state": {
            "_model_module": "@jupyter-widgets/base",
            "_model_module_version": "1.2.0",
            "_model_name": "LayoutModel",
            "_view_count": null,
            "_view_module": "@jupyter-widgets/base",
            "_view_module_version": "1.2.0",
            "_view_name": "LayoutView",
            "align_content": null,
            "align_items": null,
            "align_self": null,
            "border": null,
            "bottom": null,
            "display": null,
            "flex": null,
            "flex_flow": null,
            "grid_area": null,
            "grid_auto_columns": null,
            "grid_auto_flow": null,
            "grid_auto_rows": null,
            "grid_column": null,
            "grid_gap": null,
            "grid_row": null,
            "grid_template_areas": null,
            "grid_template_columns": null,
            "grid_template_rows": null,
            "height": null,
            "justify_content": null,
            "justify_items": null,
            "left": null,
            "margin": null,
            "max_height": null,
            "max_width": null,
            "min_height": null,
            "min_width": null,
            "object_fit": null,
            "object_position": null,
            "order": null,
            "overflow": null,
            "overflow_x": null,
            "overflow_y": null,
            "padding": null,
            "right": null,
            "top": null,
            "visibility": null,
            "width": null
          }
        },
        "5ed176d8e4994fa4848e0673ec9df5de": {
          "model_module": "@jupyter-widgets/base",
          "model_module_version": "1.2.0",
          "model_name": "LayoutModel",
          "state": {
            "_model_module": "@jupyter-widgets/base",
            "_model_module_version": "1.2.0",
            "_model_name": "LayoutModel",
            "_view_count": null,
            "_view_module": "@jupyter-widgets/base",
            "_view_module_version": "1.2.0",
            "_view_name": "LayoutView",
            "align_content": null,
            "align_items": null,
            "align_self": null,
            "border": null,
            "bottom": null,
            "display": null,
            "flex": null,
            "flex_flow": null,
            "grid_area": null,
            "grid_auto_columns": null,
            "grid_auto_flow": null,
            "grid_auto_rows": null,
            "grid_column": null,
            "grid_gap": null,
            "grid_row": null,
            "grid_template_areas": null,
            "grid_template_columns": null,
            "grid_template_rows": null,
            "height": null,
            "justify_content": null,
            "justify_items": null,
            "left": null,
            "margin": null,
            "max_height": null,
            "max_width": null,
            "min_height": null,
            "min_width": null,
            "object_fit": null,
            "object_position": null,
            "order": null,
            "overflow": null,
            "overflow_x": null,
            "overflow_y": null,
            "padding": null,
            "right": null,
            "top": null,
            "visibility": null,
            "width": null
          }
        },
        "63fc6ee3d98843079eea14ff3f65fd42": {
          "model_module": "@jupyter-widgets/controls",
          "model_module_version": "1.5.0",
          "model_name": "ButtonStyleModel",
          "state": {
            "_model_module": "@jupyter-widgets/controls",
            "_model_module_version": "1.5.0",
            "_model_name": "ButtonStyleModel",
            "_view_count": null,
            "_view_module": "@jupyter-widgets/base",
            "_view_module_version": "1.2.0",
            "_view_name": "StyleView",
            "button_color": null,
            "font_weight": ""
          }
        },
        "69593651aafb4a6e8ba56039801bf722": {
          "model_module": "@jupyter-widgets/controls",
          "model_module_version": "1.5.0",
          "model_name": "DescriptionStyleModel",
          "state": {
            "_model_module": "@jupyter-widgets/controls",
            "_model_module_version": "1.5.0",
            "_model_name": "DescriptionStyleModel",
            "_view_count": null,
            "_view_module": "@jupyter-widgets/base",
            "_view_module_version": "1.2.0",
            "_view_name": "StyleView",
            "description_width": ""
          }
        },
        "6cc41486790a48648fc524f1f979b19f": {
          "model_module": "@jupyter-widgets/base",
          "model_module_version": "1.2.0",
          "model_name": "LayoutModel",
          "state": {
            "_model_module": "@jupyter-widgets/base",
            "_model_module_version": "1.2.0",
            "_model_name": "LayoutModel",
            "_view_count": null,
            "_view_module": "@jupyter-widgets/base",
            "_view_module_version": "1.2.0",
            "_view_name": "LayoutView",
            "align_content": null,
            "align_items": null,
            "align_self": null,
            "border": null,
            "bottom": null,
            "display": null,
            "flex": null,
            "flex_flow": null,
            "grid_area": null,
            "grid_auto_columns": null,
            "grid_auto_flow": null,
            "grid_auto_rows": null,
            "grid_column": null,
            "grid_gap": null,
            "grid_row": null,
            "grid_template_areas": null,
            "grid_template_columns": null,
            "grid_template_rows": null,
            "height": null,
            "justify_content": null,
            "justify_items": null,
            "left": null,
            "margin": null,
            "max_height": null,
            "max_width": null,
            "min_height": null,
            "min_width": null,
            "object_fit": null,
            "object_position": null,
            "order": null,
            "overflow": null,
            "overflow_x": null,
            "overflow_y": null,
            "padding": null,
            "right": null,
            "top": null,
            "visibility": null,
            "width": null
          }
        },
        "6dcddcf4dbb14a4584edbb56baa164c4": {
          "model_module": "@jupyter-widgets/base",
          "model_module_version": "1.2.0",
          "model_name": "LayoutModel",
          "state": {
            "_model_module": "@jupyter-widgets/base",
            "_model_module_version": "1.2.0",
            "_model_name": "LayoutModel",
            "_view_count": null,
            "_view_module": "@jupyter-widgets/base",
            "_view_module_version": "1.2.0",
            "_view_name": "LayoutView",
            "align_content": null,
            "align_items": null,
            "align_self": null,
            "border": null,
            "bottom": null,
            "display": null,
            "flex": null,
            "flex_flow": null,
            "grid_area": null,
            "grid_auto_columns": null,
            "grid_auto_flow": null,
            "grid_auto_rows": null,
            "grid_column": null,
            "grid_gap": null,
            "grid_row": null,
            "grid_template_areas": null,
            "grid_template_columns": null,
            "grid_template_rows": null,
            "height": "30px",
            "justify_content": null,
            "justify_items": null,
            "left": null,
            "margin": null,
            "max_height": null,
            "max_width": null,
            "min_height": null,
            "min_width": null,
            "object_fit": null,
            "object_position": null,
            "order": null,
            "overflow": null,
            "overflow_x": null,
            "overflow_y": null,
            "padding": null,
            "right": null,
            "top": null,
            "visibility": null,
            "width": "30%"
          }
        },
        "6fd3dc12ebfd48cc981bf4f863012c45": {
          "model_module": "@jupyter-widgets/controls",
          "model_module_version": "1.5.0",
          "model_name": "SelectMultipleModel",
          "state": {
            "_dom_classes": [],
            "_model_module": "@jupyter-widgets/controls",
            "_model_module_version": "1.5.0",
            "_model_name": "SelectMultipleModel",
            "_options_labels": [
              "geometry",
              "id",
              "POP10",
              "leisure_total_count",
              "leisure_name_count",
              "leisure_name_ratio",
              "building_total_count",
              "building_name_count",
              "building_name_ratio",
              "amenity_total_count",
              "amenity_name_count",
              "amenity_name_ratio",
              "leisure_total_contributions",
              "leisure_name_contributions",
              "building_total_contributions",
              "building_name_contributions",
              "amenity_total_contributions",
              "amenity_name_contributions",
              "leisure_latest5_name_contributions",
              "building_latest5_name_contributions",
              "amenity_latest5_name_contributions",
              "leisure_name_tagChange_contributions",
              "building_name_tagChange_contributions",
              "amenity_name_tagChange_contributions",
              "leisure_users_count_name",
              "building_users_count_name",
              "amenity_users_count_name"
            ],
            "_view_count": null,
            "_view_module": "@jupyter-widgets/controls",
            "_view_module_version": "1.5.0",
            "_view_name": "SelectMultipleView",
            "description": "Variables",
            "description_tooltip": null,
            "disabled": false,
            "index": [
              5
            ],
            "layout": "IPY_MODEL_15e2d21aee5e491bae2e3977f9617280",
            "rows": 5,
            "style": "IPY_MODEL_48bdfbc878b34320bae57bfbdc8ea849"
          }
        },
        "703d58046caa4336913cf7087c8fe4c2": {
          "model_module": "@jupyter-widgets/controls",
          "model_module_version": "1.5.0",
          "model_name": "DescriptionStyleModel",
          "state": {
            "_model_module": "@jupyter-widgets/controls",
            "_model_module_version": "1.5.0",
            "_model_name": "DescriptionStyleModel",
            "_view_count": null,
            "_view_module": "@jupyter-widgets/base",
            "_view_module_version": "1.2.0",
            "_view_name": "StyleView",
            "description_width": ""
          }
        },
        "71715b43866f4f1a9abf82085051a2b9": {
          "model_module": "@jupyter-widgets/controls",
          "model_module_version": "1.5.0",
          "model_name": "DropdownModel",
          "state": {
            "_dom_classes": [],
            "_model_module": "@jupyter-widgets/controls",
            "_model_module_version": "1.5.0",
            "_model_name": "DropdownModel",
            "_options_labels": [
              "POP10",
              "leisure_total_count",
              "leisure_name_count",
              "leisure_name_ratio",
              "building_total_count",
              "building_name_count",
              "building_name_ratio",
              "amenity_total_count",
              "amenity_name_count",
              "amenity_name_ratio",
              "leisure_total_contributions",
              "leisure_name_contributions",
              "building_total_contributions",
              "building_name_contributions",
              "amenity_total_contributions",
              "amenity_name_contributions",
              "leisure_latest5_name_contributions",
              "building_latest5_name_contributions",
              "amenity_latest5_name_contributions",
              "leisure_name_tagChange_contributions",
              "building_name_tagChange_contributions",
              "amenity_name_tagChange_contributions",
              "leisure_users_count_name",
              "building_users_count_name",
              "amenity_users_count_name"
            ],
            "_view_count": null,
            "_view_module": "@jupyter-widgets/controls",
            "_view_module_version": "1.5.0",
            "_view_name": "DropdownView",
            "description": "Dependent Var:",
            "description_tooltip": null,
            "disabled": false,
            "index": 0,
            "layout": "IPY_MODEL_0a11a5c05d804da3a0013bf58032d17f",
            "style": "IPY_MODEL_4dcd6ce6f04344678e92e9106ca0558d"
          }
        },
        "72140c4762e04be8bca5982f8965ece4": {
          "model_module": "@jupyter-widgets/controls",
          "model_module_version": "1.5.0",
          "model_name": "ButtonStyleModel",
          "state": {
            "_model_module": "@jupyter-widgets/controls",
            "_model_module_version": "1.5.0",
            "_model_name": "ButtonStyleModel",
            "_view_count": null,
            "_view_module": "@jupyter-widgets/base",
            "_view_module_version": "1.2.0",
            "_view_name": "StyleView",
            "button_color": null,
            "font_weight": ""
          }
        },
        "74e3d9f06d2c48c586143205146523de": {
          "model_module": "@jupyter-widgets/controls",
          "model_module_version": "1.5.0",
          "model_name": "DescriptionStyleModel",
          "state": {
            "_model_module": "@jupyter-widgets/controls",
            "_model_module_version": "1.5.0",
            "_model_name": "DescriptionStyleModel",
            "_view_count": null,
            "_view_module": "@jupyter-widgets/base",
            "_view_module_version": "1.2.0",
            "_view_name": "StyleView",
            "description_width": ""
          }
        },
        "77a7de51550e4ba29d1a6c8f5674f51c": {
          "model_module": "@jupyter-widgets/controls",
          "model_module_version": "1.5.0",
          "model_name": "ButtonStyleModel",
          "state": {
            "_model_module": "@jupyter-widgets/controls",
            "_model_module_version": "1.5.0",
            "_model_name": "ButtonStyleModel",
            "_view_count": null,
            "_view_module": "@jupyter-widgets/base",
            "_view_module_version": "1.2.0",
            "_view_name": "StyleView",
            "button_color": null,
            "font_weight": ""
          }
        },
        "7f0d3637635b472a875451622681aeee": {
          "model_module": "@jupyter-widgets/controls",
          "model_module_version": "1.5.0",
          "model_name": "DescriptionStyleModel",
          "state": {
            "_model_module": "@jupyter-widgets/controls",
            "_model_module_version": "1.5.0",
            "_model_name": "DescriptionStyleModel",
            "_view_count": null,
            "_view_module": "@jupyter-widgets/base",
            "_view_module_version": "1.2.0",
            "_view_name": "StyleView",
            "description_width": ""
          }
        },
        "87db58d651d84e7e9b0e3c140c1fa718": {
          "model_module": "@jupyter-widgets/controls",
          "model_module_version": "1.5.0",
          "model_name": "ButtonModel",
          "state": {
            "_dom_classes": [],
            "_model_module": "@jupyter-widgets/controls",
            "_model_module_version": "1.5.0",
            "_model_name": "ButtonModel",
            "_view_count": null,
            "_view_module": "@jupyter-widgets/controls",
            "_view_module_version": "1.5.0",
            "_view_name": "ButtonView",
            "button_style": "",
            "description": "Run Regression",
            "disabled": false,
            "icon": "",
            "layout": "IPY_MODEL_cf6631e61ec24a0f869ab7fc5a30dd86",
            "style": "IPY_MODEL_77a7de51550e4ba29d1a6c8f5674f51c",
            "tooltip": ""
          }
        },
        "89c2f93b1ad04c47b005975493ed5454": {
          "model_module": "@jupyter-widgets/controls",
          "model_module_version": "1.5.0",
          "model_name": "DropdownModel",
          "state": {
            "_dom_classes": [],
            "_model_module": "@jupyter-widgets/controls",
            "_model_module_version": "1.5.0",
            "_model_name": "DropdownModel",
            "_options_labels": [
              "id",
              "POP10",
              "leisure_total_count",
              "leisure_name_count",
              "leisure_name_ratio",
              "building_total_count",
              "building_name_count",
              "building_name_ratio",
              "amenity_total_count",
              "amenity_name_count",
              "amenity_name_ratio",
              "leisure_total_contributions",
              "leisure_name_contributions",
              "building_total_contributions",
              "building_name_contributions",
              "amenity_total_contributions",
              "amenity_name_contributions",
              "leisure_latest5_name_contributions",
              "building_latest5_name_contributions",
              "amenity_latest5_name_contributions",
              "leisure_name_tagChange_contributions",
              "building_name_tagChange_contributions",
              "amenity_name_tagChange_contributions",
              "leisure_users_count_name",
              "building_users_count_name",
              "amenity_users_count_name"
            ],
            "_view_count": null,
            "_view_module": "@jupyter-widgets/controls",
            "_view_module_version": "1.5.0",
            "_view_name": "DropdownView",
            "description": "Dependent Variable:",
            "description_tooltip": null,
            "disabled": false,
            "index": 4,
            "layout": "IPY_MODEL_1e6e160e6a4e454e8cb12ffdba37c4b0",
            "style": "IPY_MODEL_7f0d3637635b472a875451622681aeee"
          }
        },
        "8a322b7dc8c14bf1bc344d2312e113e1": {
          "model_module": "@jupyter-widgets/controls",
          "model_module_version": "1.5.0",
          "model_name": "DescriptionStyleModel",
          "state": {
            "_model_module": "@jupyter-widgets/controls",
            "_model_module_version": "1.5.0",
            "_model_name": "DescriptionStyleModel",
            "_view_count": null,
            "_view_module": "@jupyter-widgets/base",
            "_view_module_version": "1.2.0",
            "_view_name": "StyleView",
            "description_width": ""
          }
        },
        "8d2621d06712443080e4beebf802efde": {
          "model_module": "@jupyter-widgets/base",
          "model_module_version": "1.2.0",
          "model_name": "LayoutModel",
          "state": {
            "_model_module": "@jupyter-widgets/base",
            "_model_module_version": "1.2.0",
            "_model_name": "LayoutModel",
            "_view_count": null,
            "_view_module": "@jupyter-widgets/base",
            "_view_module_version": "1.2.0",
            "_view_name": "LayoutView",
            "align_content": null,
            "align_items": null,
            "align_self": null,
            "border": null,
            "bottom": null,
            "display": null,
            "flex": null,
            "flex_flow": null,
            "grid_area": null,
            "grid_auto_columns": null,
            "grid_auto_flow": null,
            "grid_auto_rows": null,
            "grid_column": null,
            "grid_gap": null,
            "grid_row": null,
            "grid_template_areas": null,
            "grid_template_columns": null,
            "grid_template_rows": null,
            "height": null,
            "justify_content": null,
            "justify_items": null,
            "left": null,
            "margin": null,
            "max_height": null,
            "max_width": null,
            "min_height": null,
            "min_width": null,
            "object_fit": null,
            "object_position": null,
            "order": null,
            "overflow": null,
            "overflow_x": null,
            "overflow_y": null,
            "padding": null,
            "right": null,
            "top": null,
            "visibility": null,
            "width": null
          }
        },
        "8f7650c0f4664e54a5756cf1c7df2674": {
          "model_module": "@jupyter-widgets/controls",
          "model_module_version": "1.5.0",
          "model_name": "DropdownModel",
          "state": {
            "_dom_classes": [],
            "_model_module": "@jupyter-widgets/controls",
            "_model_module_version": "1.5.0",
            "_model_name": "DropdownModel",
            "_options_labels": [
              "Quantiles",
              "EqualInterval",
              "NaturalBreaks"
            ],
            "_view_count": null,
            "_view_module": "@jupyter-widgets/controls",
            "_view_module_version": "1.5.0",
            "_view_name": "DropdownView",
            "description": "Method:",
            "description_tooltip": null,
            "disabled": false,
            "index": 0,
            "layout": "IPY_MODEL_6dcddcf4dbb14a4584edbb56baa164c4",
            "style": "IPY_MODEL_bd326fe3571e4208bc5de58880f6732f"
          }
        },
        "92c6fc8e3c9b4122b75b24ee3f49c893": {
          "model_module": "@jupyter-widgets/base",
          "model_module_version": "1.2.0",
          "model_name": "LayoutModel",
          "state": {
            "_model_module": "@jupyter-widgets/base",
            "_model_module_version": "1.2.0",
            "_model_name": "LayoutModel",
            "_view_count": null,
            "_view_module": "@jupyter-widgets/base",
            "_view_module_version": "1.2.0",
            "_view_name": "LayoutView",
            "align_content": null,
            "align_items": null,
            "align_self": null,
            "border": null,
            "bottom": null,
            "display": null,
            "flex": null,
            "flex_flow": null,
            "grid_area": null,
            "grid_auto_columns": null,
            "grid_auto_flow": null,
            "grid_auto_rows": null,
            "grid_column": null,
            "grid_gap": null,
            "grid_row": null,
            "grid_template_areas": null,
            "grid_template_columns": null,
            "grid_template_rows": null,
            "height": null,
            "justify_content": null,
            "justify_items": null,
            "left": null,
            "margin": null,
            "max_height": null,
            "max_width": null,
            "min_height": null,
            "min_width": null,
            "object_fit": null,
            "object_position": null,
            "order": null,
            "overflow": null,
            "overflow_x": null,
            "overflow_y": null,
            "padding": null,
            "right": null,
            "top": null,
            "visibility": null,
            "width": null
          }
        },
        "937d8fd7b94f4ed8898c7ae588529350": {
          "model_module": "@jupyter-widgets/base",
          "model_module_version": "1.2.0",
          "model_name": "LayoutModel",
          "state": {
            "_model_module": "@jupyter-widgets/base",
            "_model_module_version": "1.2.0",
            "_model_name": "LayoutModel",
            "_view_count": null,
            "_view_module": "@jupyter-widgets/base",
            "_view_module_version": "1.2.0",
            "_view_name": "LayoutView",
            "align_content": null,
            "align_items": null,
            "align_self": null,
            "border": null,
            "bottom": null,
            "display": null,
            "flex": null,
            "flex_flow": null,
            "grid_area": null,
            "grid_auto_columns": null,
            "grid_auto_flow": null,
            "grid_auto_rows": null,
            "grid_column": null,
            "grid_gap": null,
            "grid_row": null,
            "grid_template_areas": null,
            "grid_template_columns": null,
            "grid_template_rows": null,
            "height": null,
            "justify_content": null,
            "justify_items": null,
            "left": null,
            "margin": null,
            "max_height": null,
            "max_width": null,
            "min_height": null,
            "min_width": null,
            "object_fit": null,
            "object_position": null,
            "order": null,
            "overflow": null,
            "overflow_x": null,
            "overflow_y": null,
            "padding": null,
            "right": null,
            "top": null,
            "visibility": null,
            "width": null
          }
        },
        "96a2dbe684f146eb93dfc2dd56f25847": {
          "model_module": "@jupyter-widgets/controls",
          "model_module_version": "1.5.0",
          "model_name": "ButtonModel",
          "state": {
            "_dom_classes": [],
            "_model_module": "@jupyter-widgets/controls",
            "_model_module_version": "1.5.0",
            "_model_name": "ButtonModel",
            "_view_count": null,
            "_view_module": "@jupyter-widgets/controls",
            "_view_module_version": "1.5.0",
            "_view_name": "ButtonView",
            "button_style": "",
            "description": "Generate R² bar chart",
            "disabled": false,
            "icon": "",
            "layout": "IPY_MODEL_6cc41486790a48648fc524f1f979b19f",
            "style": "IPY_MODEL_13aa24f80e86483a8d7a0c9e517f1002",
            "tooltip": ""
          }
        },
        "98d762ac960941eaa053846066d6801f": {
          "model_module": "@jupyter-widgets/controls",
          "model_module_version": "1.5.0",
          "model_name": "ButtonStyleModel",
          "state": {
            "_model_module": "@jupyter-widgets/controls",
            "_model_module_version": "1.5.0",
            "_model_name": "ButtonStyleModel",
            "_view_count": null,
            "_view_module": "@jupyter-widgets/base",
            "_view_module_version": "1.2.0",
            "_view_name": "StyleView",
            "button_color": null,
            "font_weight": ""
          }
        },
        "9d4d5338297149a495bc599707e76441": {
          "model_module": "@jupyter-widgets/controls",
          "model_module_version": "1.5.0",
          "model_name": "VBoxModel",
          "state": {
            "_dom_classes": [],
            "_model_module": "@jupyter-widgets/controls",
            "_model_module_version": "1.5.0",
            "_model_name": "VBoxModel",
            "_view_count": null,
            "_view_module": "@jupyter-widgets/controls",
            "_view_module_version": "1.5.0",
            "_view_name": "VBoxView",
            "box_style": "",
            "children": [
              "IPY_MODEL_87db58d651d84e7e9b0e3c140c1fa718",
              "IPY_MODEL_96a2dbe684f146eb93dfc2dd56f25847",
              "IPY_MODEL_9f1552773ae341eaa7c72b6ceb631fe8",
              "IPY_MODEL_e3b9b46550b24ff8bb710e2214f093d0"
            ],
            "layout": "IPY_MODEL_8d2621d06712443080e4beebf802efde"
          }
        },
        "9f1552773ae341eaa7c72b6ceb631fe8": {
          "model_module": "@jupyter-widgets/controls",
          "model_module_version": "1.5.0",
          "model_name": "ButtonModel",
          "state": {
            "_dom_classes": [],
            "_model_module": "@jupyter-widgets/controls",
            "_model_module_version": "1.5.0",
            "_model_name": "ButtonModel",
            "_view_count": null,
            "_view_module": "@jupyter-widgets/controls",
            "_view_module_version": "1.5.0",
            "_view_name": "ButtonView",
            "button_style": "",
            "description": "Save Results",
            "disabled": false,
            "icon": "",
            "layout": "IPY_MODEL_5ed176d8e4994fa4848e0673ec9df5de",
            "style": "IPY_MODEL_63fc6ee3d98843079eea14ff3f65fd42",
            "tooltip": ""
          }
        },
        "a2ae62ae301e44918584a49c9d9cd48f": {
          "model_module": "@jupyter-widgets/controls",
          "model_module_version": "1.5.0",
          "model_name": "ButtonModel",
          "state": {
            "_dom_classes": [],
            "_model_module": "@jupyter-widgets/controls",
            "_model_module_version": "1.5.0",
            "_model_name": "ButtonModel",
            "_view_count": null,
            "_view_module": "@jupyter-widgets/controls",
            "_view_module_version": "1.5.0",
            "_view_name": "ButtonView",
            "button_style": "",
            "description": "Analyze Moran's I",
            "disabled": false,
            "icon": "",
            "layout": "IPY_MODEL_ff49d9d9c6e243f4a58a70968841c944",
            "style": "IPY_MODEL_07f53fbef7864ac996721a0ea4b8830d",
            "tooltip": ""
          }
        },
        "abf02a21a6494de396994593af942c9c": {
          "model_module": "@jupyter-widgets/controls",
          "model_module_version": "1.5.0",
          "model_name": "DropdownModel",
          "state": {
            "_dom_classes": [],
            "_model_module": "@jupyter-widgets/controls",
            "_model_module_version": "1.5.0",
            "_model_name": "DropdownModel",
            "_options_labels": [
              "magma",
              "inferno",
              "plasma",
              "viridis",
              "cividis",
              "twilight",
              "twilight_shifted",
              "turbo",
              "Blues",
              "BrBG",
              "BuGn",
              "BuPu",
              "CMRmap",
              "GnBu",
              "Greens",
              "Greys",
              "OrRd",
              "Oranges",
              "PRGn",
              "PiYG",
              "PuBu",
              "PuBuGn",
              "PuOr",
              "PuRd",
              "Purples",
              "RdBu",
              "RdGy",
              "RdPu",
              "RdYlBu",
              "RdYlGn",
              "Reds",
              "Spectral",
              "Wistia",
              "YlGn",
              "YlGnBu",
              "YlOrBr",
              "YlOrRd",
              "afmhot",
              "autumn",
              "binary",
              "bone",
              "brg",
              "bwr",
              "cool",
              "coolwarm",
              "copper",
              "cubehelix",
              "flag",
              "gist_earth",
              "gist_gray",
              "gist_heat",
              "gist_ncar",
              "gist_rainbow",
              "gist_stern",
              "gist_yarg",
              "gnuplot",
              "gnuplot2",
              "gray",
              "hot",
              "hsv",
              "jet",
              "nipy_spectral",
              "ocean",
              "pink",
              "prism",
              "rainbow",
              "seismic",
              "spring",
              "summer",
              "terrain",
              "winter",
              "Accent",
              "Dark2",
              "Paired",
              "Pastel1",
              "Pastel2",
              "Set1",
              "Set2",
              "Set3",
              "tab10",
              "tab20",
              "tab20b",
              "tab20c",
              "magma_r",
              "inferno_r",
              "plasma_r",
              "viridis_r",
              "cividis_r",
              "twilight_r",
              "twilight_shifted_r",
              "turbo_r",
              "Blues_r",
              "BrBG_r",
              "BuGn_r",
              "BuPu_r",
              "CMRmap_r",
              "GnBu_r",
              "Greens_r",
              "Greys_r",
              "OrRd_r",
              "Oranges_r",
              "PRGn_r",
              "PiYG_r",
              "PuBu_r",
              "PuBuGn_r",
              "PuOr_r",
              "PuRd_r",
              "Purples_r",
              "RdBu_r",
              "RdGy_r",
              "RdPu_r",
              "RdYlBu_r",
              "RdYlGn_r",
              "Reds_r",
              "Spectral_r",
              "Wistia_r",
              "YlGn_r",
              "YlGnBu_r",
              "YlOrBr_r",
              "YlOrRd_r",
              "afmhot_r",
              "autumn_r",
              "binary_r",
              "bone_r",
              "brg_r",
              "bwr_r",
              "cool_r",
              "coolwarm_r",
              "copper_r",
              "cubehelix_r",
              "flag_r",
              "gist_earth_r",
              "gist_gray_r",
              "gist_heat_r",
              "gist_ncar_r",
              "gist_rainbow_r",
              "gist_stern_r",
              "gist_yarg_r",
              "gnuplot_r",
              "gnuplot2_r",
              "gray_r",
              "hot_r",
              "hsv_r",
              "jet_r",
              "nipy_spectral_r",
              "ocean_r",
              "pink_r",
              "prism_r",
              "rainbow_r",
              "seismic_r",
              "spring_r",
              "summer_r",
              "terrain_r",
              "winter_r",
              "Accent_r",
              "Dark2_r",
              "Paired_r",
              "Pastel1_r",
              "Pastel2_r",
              "Set1_r",
              "Set2_r",
              "Set3_r",
              "tab10_r",
              "tab20_r",
              "tab20b_r",
              "tab20c_r",
              "rocket",
              "rocket_r",
              "mako",
              "mako_r",
              "icefire",
              "icefire_r",
              "vlag",
              "vlag_r",
              "flare",
              "flare_r",
              "crest",
              "crest_r"
            ],
            "_view_count": null,
            "_view_module": "@jupyter-widgets/controls",
            "_view_module_version": "1.5.0",
            "_view_name": "DropdownView",
            "description": "Palette:",
            "description_tooltip": null,
            "disabled": false,
            "index": 33,
            "layout": "IPY_MODEL_e99c3f74ca9243b983c70087238ab384",
            "style": "IPY_MODEL_f3b25b503e6c4abbbcd810e69b9b6dcc"
          }
        },
        "afaa7fbc8d63482b9873f1e40f252f3a": {
          "model_module": "@jupyter-widgets/base",
          "model_module_version": "1.2.0",
          "model_name": "LayoutModel",
          "state": {
            "_model_module": "@jupyter-widgets/base",
            "_model_module_version": "1.2.0",
            "_model_name": "LayoutModel",
            "_view_count": null,
            "_view_module": "@jupyter-widgets/base",
            "_view_module_version": "1.2.0",
            "_view_name": "LayoutView",
            "align_content": null,
            "align_items": null,
            "align_self": null,
            "border": null,
            "bottom": null,
            "display": null,
            "flex": null,
            "flex_flow": null,
            "grid_area": null,
            "grid_auto_columns": null,
            "grid_auto_flow": null,
            "grid_auto_rows": null,
            "grid_column": null,
            "grid_gap": null,
            "grid_row": null,
            "grid_template_areas": null,
            "grid_template_columns": null,
            "grid_template_rows": null,
            "height": "200px",
            "justify_content": null,
            "justify_items": null,
            "left": null,
            "margin": null,
            "max_height": null,
            "max_width": null,
            "min_height": null,
            "min_width": null,
            "object_fit": null,
            "object_position": null,
            "order": null,
            "overflow": null,
            "overflow_x": null,
            "overflow_y": null,
            "padding": null,
            "right": null,
            "top": null,
            "visibility": null,
            "width": "40%"
          }
        },
        "b37edd6e5c074a45baf1ed59bc281b45": {
          "model_module": "@jupyter-widgets/controls",
          "model_module_version": "1.5.0",
          "model_name": "ButtonModel",
          "state": {
            "_dom_classes": [],
            "_model_module": "@jupyter-widgets/controls",
            "_model_module_version": "1.5.0",
            "_model_name": "ButtonModel",
            "_view_count": null,
            "_view_module": "@jupyter-widgets/controls",
            "_view_module_version": "1.5.0",
            "_view_name": "ButtonView",
            "button_style": "",
            "description": "Perform GWANOVA",
            "disabled": false,
            "icon": "",
            "layout": "IPY_MODEL_45e7a987b6bb4de4b660e45cf123cc1a",
            "style": "IPY_MODEL_52e29267f7454ae79047537322f8e6fe",
            "tooltip": ""
          }
        },
        "b8cd2047b28f4d21932b0e57d4dd666a": {
          "model_module": "@jupyter-widgets/controls",
          "model_module_version": "1.5.0",
          "model_name": "SelectModel",
          "state": {
            "_dom_classes": [],
            "_model_module": "@jupyter-widgets/controls",
            "_model_module_version": "1.5.0",
            "_model_name": "SelectModel",
            "_options_labels": [
              "geometry",
              "id",
              "POP10",
              "leisure_total_count",
              "leisure_name_count",
              "leisure_name_ratio",
              "building_total_count",
              "building_name_count",
              "building_name_ratio",
              "amenity_total_count",
              "amenity_name_count",
              "amenity_name_ratio",
              "leisure_total_contributions",
              "leisure_name_contributions",
              "building_total_contributions",
              "building_name_contributions",
              "amenity_total_contributions",
              "amenity_name_contributions",
              "leisure_latest5_name_contributions",
              "building_latest5_name_contributions",
              "amenity_latest5_name_contributions",
              "leisure_name_tagChange_contributions",
              "building_name_tagChange_contributions",
              "amenity_name_tagChange_contributions",
              "leisure_users_count_name",
              "building_users_count_name",
              "amenity_users_count_name"
            ],
            "_view_count": null,
            "_view_module": "@jupyter-widgets/controls",
            "_view_module_version": "1.5.0",
            "_view_name": "SelectView",
            "description": "Variable:",
            "description_tooltip": null,
            "disabled": false,
            "index": 0,
            "layout": "IPY_MODEL_18d7e47472e042838f2aed1a8c691986",
            "rows": 5,
            "style": "IPY_MODEL_69593651aafb4a6e8ba56039801bf722"
          }
        },
        "b8f27fbc62684d7ba4c720698710bffc": {
          "model_module": "@jupyter-widgets/base",
          "model_module_version": "1.2.0",
          "model_name": "LayoutModel",
          "state": {
            "_model_module": "@jupyter-widgets/base",
            "_model_module_version": "1.2.0",
            "_model_name": "LayoutModel",
            "_view_count": null,
            "_view_module": "@jupyter-widgets/base",
            "_view_module_version": "1.2.0",
            "_view_name": "LayoutView",
            "align_content": null,
            "align_items": null,
            "align_self": null,
            "border": null,
            "bottom": null,
            "display": null,
            "flex": null,
            "flex_flow": null,
            "grid_area": null,
            "grid_auto_columns": null,
            "grid_auto_flow": null,
            "grid_auto_rows": null,
            "grid_column": null,
            "grid_gap": null,
            "grid_row": null,
            "grid_template_areas": null,
            "grid_template_columns": null,
            "grid_template_rows": null,
            "height": null,
            "justify_content": null,
            "justify_items": null,
            "left": null,
            "margin": null,
            "max_height": null,
            "max_width": null,
            "min_height": null,
            "min_width": null,
            "object_fit": null,
            "object_position": null,
            "order": null,
            "overflow": null,
            "overflow_x": null,
            "overflow_y": null,
            "padding": null,
            "right": null,
            "top": null,
            "visibility": null,
            "width": null
          }
        },
        "bd326fe3571e4208bc5de58880f6732f": {
          "model_module": "@jupyter-widgets/controls",
          "model_module_version": "1.5.0",
          "model_name": "DescriptionStyleModel",
          "state": {
            "_model_module": "@jupyter-widgets/controls",
            "_model_module_version": "1.5.0",
            "_model_name": "DescriptionStyleModel",
            "_view_count": null,
            "_view_module": "@jupyter-widgets/base",
            "_view_module_version": "1.2.0",
            "_view_name": "StyleView",
            "description_width": ""
          }
        },
        "c09f69def18349b28185ef076cf110de": {
          "model_module": "@jupyter-widgets/base",
          "model_module_version": "1.2.0",
          "model_name": "LayoutModel",
          "state": {
            "_model_module": "@jupyter-widgets/base",
            "_model_module_version": "1.2.0",
            "_model_name": "LayoutModel",
            "_view_count": null,
            "_view_module": "@jupyter-widgets/base",
            "_view_module_version": "1.2.0",
            "_view_name": "LayoutView",
            "align_content": null,
            "align_items": null,
            "align_self": null,
            "border": null,
            "bottom": null,
            "display": null,
            "flex": null,
            "flex_flow": null,
            "grid_area": null,
            "grid_auto_columns": null,
            "grid_auto_flow": null,
            "grid_auto_rows": null,
            "grid_column": null,
            "grid_gap": null,
            "grid_row": null,
            "grid_template_areas": null,
            "grid_template_columns": null,
            "grid_template_rows": null,
            "height": null,
            "justify_content": null,
            "justify_items": null,
            "left": null,
            "margin": null,
            "max_height": null,
            "max_width": null,
            "min_height": null,
            "min_width": null,
            "object_fit": null,
            "object_position": null,
            "order": null,
            "overflow": null,
            "overflow_x": null,
            "overflow_y": null,
            "padding": null,
            "right": null,
            "top": null,
            "visibility": null,
            "width": null
          }
        },
        "c1cc0b1c2de5426ebc1c3da7ea5cb595": {
          "model_module": "@jupyter-widgets/controls",
          "model_module_version": "1.5.0",
          "model_name": "ButtonModel",
          "state": {
            "_dom_classes": [],
            "_model_module": "@jupyter-widgets/controls",
            "_model_module_version": "1.5.0",
            "_model_name": "ButtonModel",
            "_view_count": null,
            "_view_module": "@jupyter-widgets/controls",
            "_view_module_version": "1.5.0",
            "_view_name": "ButtonView",
            "button_style": "",
            "description": "Clear Output",
            "disabled": false,
            "icon": "",
            "layout": "IPY_MODEL_b8f27fbc62684d7ba4c720698710bffc",
            "style": "IPY_MODEL_1dac6305a41d4083a2269930b51e6052",
            "tooltip": ""
          }
        },
        "ce4e7a477c6d4f8c8ecb1b682ce323f5": {
          "model_module": "@jupyter-widgets/controls",
          "model_module_version": "1.5.0",
          "model_name": "VBoxModel",
          "state": {
            "_dom_classes": [],
            "_model_module": "@jupyter-widgets/controls",
            "_model_module_version": "1.5.0",
            "_model_name": "VBoxModel",
            "_view_count": null,
            "_view_module": "@jupyter-widgets/controls",
            "_view_module_version": "1.5.0",
            "_view_name": "VBoxView",
            "box_style": "",
            "children": [
              "IPY_MODEL_71715b43866f4f1a9abf82085051a2b9",
              "IPY_MODEL_efba20c36f804cd0afc6b845472e8ae4"
            ],
            "layout": "IPY_MODEL_fcf91005fd36462ba47650325f8bbca7"
          }
        },
        "cf6631e61ec24a0f869ab7fc5a30dd86": {
          "model_module": "@jupyter-widgets/base",
          "model_module_version": "1.2.0",
          "model_name": "LayoutModel",
          "state": {
            "_model_module": "@jupyter-widgets/base",
            "_model_module_version": "1.2.0",
            "_model_name": "LayoutModel",
            "_view_count": null,
            "_view_module": "@jupyter-widgets/base",
            "_view_module_version": "1.2.0",
            "_view_name": "LayoutView",
            "align_content": null,
            "align_items": null,
            "align_self": null,
            "border": null,
            "bottom": null,
            "display": null,
            "flex": null,
            "flex_flow": null,
            "grid_area": null,
            "grid_auto_columns": null,
            "grid_auto_flow": null,
            "grid_auto_rows": null,
            "grid_column": null,
            "grid_gap": null,
            "grid_row": null,
            "grid_template_areas": null,
            "grid_template_columns": null,
            "grid_template_rows": null,
            "height": null,
            "justify_content": null,
            "justify_items": null,
            "left": null,
            "margin": null,
            "max_height": null,
            "max_width": null,
            "min_height": null,
            "min_width": null,
            "object_fit": null,
            "object_position": null,
            "order": null,
            "overflow": null,
            "overflow_x": null,
            "overflow_y": null,
            "padding": null,
            "right": null,
            "top": null,
            "visibility": null,
            "width": null
          }
        },
        "d213b68e8b9743b2a967e7bc260b297d": {
          "model_module": "@jupyter-widgets/controls",
          "model_module_version": "1.5.0",
          "model_name": "VBoxModel",
          "state": {
            "_dom_classes": [],
            "_model_module": "@jupyter-widgets/controls",
            "_model_module_version": "1.5.0",
            "_model_name": "VBoxModel",
            "_view_count": null,
            "_view_module": "@jupyter-widgets/controls",
            "_view_module_version": "1.5.0",
            "_view_name": "VBoxView",
            "box_style": "",
            "children": [
              "IPY_MODEL_89c2f93b1ad04c47b005975493ed5454",
              "IPY_MODEL_25a76eae84284ccc94ec15604278d2e9",
              "IPY_MODEL_2004094e0b1949cda5dc370a3596273c"
            ],
            "layout": "IPY_MODEL_ec6dde8afd684925a5bf3417b7b38fe9"
          }
        },
        "d41cbb73f95f451cad0a7629a365e87b": {
          "model_module": "@jupyter-widgets/base",
          "model_module_version": "1.2.0",
          "model_name": "LayoutModel",
          "state": {
            "_model_module": "@jupyter-widgets/base",
            "_model_module_version": "1.2.0",
            "_model_name": "LayoutModel",
            "_view_count": null,
            "_view_module": "@jupyter-widgets/base",
            "_view_module_version": "1.2.0",
            "_view_name": "LayoutView",
            "align_content": null,
            "align_items": null,
            "align_self": null,
            "border": null,
            "bottom": null,
            "display": null,
            "flex": null,
            "flex_flow": null,
            "grid_area": null,
            "grid_auto_columns": null,
            "grid_auto_flow": null,
            "grid_auto_rows": null,
            "grid_column": null,
            "grid_gap": null,
            "grid_row": null,
            "grid_template_areas": null,
            "grid_template_columns": null,
            "grid_template_rows": null,
            "height": null,
            "justify_content": null,
            "justify_items": null,
            "left": null,
            "margin": null,
            "max_height": null,
            "max_width": null,
            "min_height": null,
            "min_width": null,
            "object_fit": null,
            "object_position": null,
            "order": null,
            "overflow": null,
            "overflow_x": null,
            "overflow_y": null,
            "padding": null,
            "right": null,
            "top": null,
            "visibility": null,
            "width": null
          }
        },
        "d5958845923445689792a232752369e2": {
          "model_module": "@jupyter-widgets/base",
          "model_module_version": "1.2.0",
          "model_name": "LayoutModel",
          "state": {
            "_model_module": "@jupyter-widgets/base",
            "_model_module_version": "1.2.0",
            "_model_name": "LayoutModel",
            "_view_count": null,
            "_view_module": "@jupyter-widgets/base",
            "_view_module_version": "1.2.0",
            "_view_name": "LayoutView",
            "align_content": null,
            "align_items": null,
            "align_self": null,
            "border": null,
            "bottom": null,
            "display": null,
            "flex": null,
            "flex_flow": null,
            "grid_area": null,
            "grid_auto_columns": null,
            "grid_auto_flow": null,
            "grid_auto_rows": null,
            "grid_column": null,
            "grid_gap": null,
            "grid_row": null,
            "grid_template_areas": null,
            "grid_template_columns": null,
            "grid_template_rows": null,
            "height": null,
            "justify_content": null,
            "justify_items": null,
            "left": null,
            "margin": null,
            "max_height": null,
            "max_width": null,
            "min_height": null,
            "min_width": null,
            "object_fit": null,
            "object_position": null,
            "order": null,
            "overflow": null,
            "overflow_x": null,
            "overflow_y": null,
            "padding": null,
            "right": null,
            "top": null,
            "visibility": null,
            "width": null
          }
        },
        "d86c76148ad4438fad4e56927c04cfb6": {
          "model_module": "@jupyter-widgets/base",
          "model_module_version": "1.2.0",
          "model_name": "LayoutModel",
          "state": {
            "_model_module": "@jupyter-widgets/base",
            "_model_module_version": "1.2.0",
            "_model_name": "LayoutModel",
            "_view_count": null,
            "_view_module": "@jupyter-widgets/base",
            "_view_module_version": "1.2.0",
            "_view_name": "LayoutView",
            "align_content": null,
            "align_items": null,
            "align_self": null,
            "border": null,
            "bottom": null,
            "display": null,
            "flex": null,
            "flex_flow": null,
            "grid_area": null,
            "grid_auto_columns": null,
            "grid_auto_flow": null,
            "grid_auto_rows": null,
            "grid_column": null,
            "grid_gap": null,
            "grid_row": null,
            "grid_template_areas": null,
            "grid_template_columns": null,
            "grid_template_rows": null,
            "height": "200px",
            "justify_content": null,
            "justify_items": null,
            "left": null,
            "margin": null,
            "max_height": null,
            "max_width": null,
            "min_height": null,
            "min_width": null,
            "object_fit": null,
            "object_position": null,
            "order": null,
            "overflow": null,
            "overflow_x": null,
            "overflow_y": null,
            "padding": null,
            "right": null,
            "top": null,
            "visibility": null,
            "width": "90%"
          }
        },
        "d8e24cbedf4d41ba91198b2e774d11b5": {
          "model_module": "@jupyter-widgets/controls",
          "model_module_version": "1.5.0",
          "model_name": "ButtonModel",
          "state": {
            "_dom_classes": [],
            "_model_module": "@jupyter-widgets/controls",
            "_model_module_version": "1.5.0",
            "_model_name": "ButtonModel",
            "_view_count": null,
            "_view_module": "@jupyter-widgets/controls",
            "_view_module_version": "1.5.0",
            "_view_name": "ButtonView",
            "button_style": "",
            "description": "Clear Output",
            "disabled": false,
            "icon": "",
            "layout": "IPY_MODEL_53432b40cfd147368b116ed5ee991f02",
            "style": "IPY_MODEL_350064cb41104a41b5c8dda476353c8e",
            "tooltip": ""
          }
        },
        "df50676c905c42aabf557d5fb1b531ff": {
          "model_module": "@jupyter-widgets/controls",
          "model_module_version": "1.5.0",
          "model_name": "ButtonModel",
          "state": {
            "_dom_classes": [],
            "_model_module": "@jupyter-widgets/controls",
            "_model_module_version": "1.5.0",
            "_model_name": "ButtonModel",
            "_view_count": null,
            "_view_module": "@jupyter-widgets/controls",
            "_view_module_version": "1.5.0",
            "_view_name": "ButtonView",
            "button_style": "",
            "description": "Generate map",
            "disabled": false,
            "icon": "",
            "layout": "IPY_MODEL_335a87e040184b188c9c447ad4c0bfd3",
            "style": "IPY_MODEL_72140c4762e04be8bca5982f8965ece4",
            "tooltip": ""
          }
        },
        "dfb4ae16f75e4f3ab7d5e2f208739937": {
          "model_module": "@jupyter-widgets/controls",
          "model_module_version": "1.5.0",
          "model_name": "ButtonStyleModel",
          "state": {
            "_model_module": "@jupyter-widgets/controls",
            "_model_module_version": "1.5.0",
            "_model_name": "ButtonStyleModel",
            "_view_count": null,
            "_view_module": "@jupyter-widgets/base",
            "_view_module_version": "1.2.0",
            "_view_name": "StyleView",
            "button_color": null,
            "font_weight": ""
          }
        },
        "e3b9b46550b24ff8bb710e2214f093d0": {
          "model_module": "@jupyter-widgets/controls",
          "model_module_version": "1.5.0",
          "model_name": "ButtonModel",
          "state": {
            "_dom_classes": [],
            "_model_module": "@jupyter-widgets/controls",
            "_model_module_version": "1.5.0",
            "_model_name": "ButtonModel",
            "_view_count": null,
            "_view_module": "@jupyter-widgets/controls",
            "_view_module_version": "1.5.0",
            "_view_name": "ButtonView",
            "button_style": "",
            "description": "Clear Outputs",
            "disabled": false,
            "icon": "",
            "layout": "IPY_MODEL_c09f69def18349b28185ef076cf110de",
            "style": "IPY_MODEL_493e60c1de264e1fafe2507d28c2e02b",
            "tooltip": ""
          }
        },
        "e99c3f74ca9243b983c70087238ab384": {
          "model_module": "@jupyter-widgets/base",
          "model_module_version": "1.2.0",
          "model_name": "LayoutModel",
          "state": {
            "_model_module": "@jupyter-widgets/base",
            "_model_module_version": "1.2.0",
            "_model_name": "LayoutModel",
            "_view_count": null,
            "_view_module": "@jupyter-widgets/base",
            "_view_module_version": "1.2.0",
            "_view_name": "LayoutView",
            "align_content": null,
            "align_items": null,
            "align_self": null,
            "border": null,
            "bottom": null,
            "display": null,
            "flex": null,
            "flex_flow": null,
            "grid_area": null,
            "grid_auto_columns": null,
            "grid_auto_flow": null,
            "grid_auto_rows": null,
            "grid_column": null,
            "grid_gap": null,
            "grid_row": null,
            "grid_template_areas": null,
            "grid_template_columns": null,
            "grid_template_rows": null,
            "height": "30px",
            "justify_content": null,
            "justify_items": null,
            "left": null,
            "margin": null,
            "max_height": null,
            "max_width": null,
            "min_height": null,
            "min_width": null,
            "object_fit": null,
            "object_position": null,
            "order": null,
            "overflow": null,
            "overflow_x": null,
            "overflow_y": null,
            "padding": null,
            "right": null,
            "top": null,
            "visibility": null,
            "width": "30%"
          }
        },
        "ec6dde8afd684925a5bf3417b7b38fe9": {
          "model_module": "@jupyter-widgets/base",
          "model_module_version": "1.2.0",
          "model_name": "LayoutModel",
          "state": {
            "_model_module": "@jupyter-widgets/base",
            "_model_module_version": "1.2.0",
            "_model_name": "LayoutModel",
            "_view_count": null,
            "_view_module": "@jupyter-widgets/base",
            "_view_module_version": "1.2.0",
            "_view_name": "LayoutView",
            "align_content": null,
            "align_items": null,
            "align_self": null,
            "border": null,
            "bottom": null,
            "display": null,
            "flex": null,
            "flex_flow": null,
            "grid_area": null,
            "grid_auto_columns": null,
            "grid_auto_flow": null,
            "grid_auto_rows": null,
            "grid_column": null,
            "grid_gap": null,
            "grid_row": null,
            "grid_template_areas": null,
            "grid_template_columns": null,
            "grid_template_rows": null,
            "height": null,
            "justify_content": null,
            "justify_items": null,
            "left": null,
            "margin": null,
            "max_height": null,
            "max_width": null,
            "min_height": null,
            "min_width": null,
            "object_fit": null,
            "object_position": null,
            "order": null,
            "overflow": null,
            "overflow_x": null,
            "overflow_y": null,
            "padding": null,
            "right": null,
            "top": null,
            "visibility": null,
            "width": null
          }
        },
        "efba20c36f804cd0afc6b845472e8ae4": {
          "model_module": "@jupyter-widgets/controls",
          "model_module_version": "1.5.0",
          "model_name": "SelectMultipleModel",
          "state": {
            "_dom_classes": [],
            "_model_module": "@jupyter-widgets/controls",
            "_model_module_version": "1.5.0",
            "_model_name": "SelectMultipleModel",
            "_options_labels": [
              "POP10",
              "leisure_total_count",
              "leisure_name_count",
              "leisure_name_ratio",
              "building_total_count",
              "building_name_count",
              "building_name_ratio",
              "amenity_total_count",
              "amenity_name_count",
              "amenity_name_ratio",
              "leisure_total_contributions",
              "leisure_name_contributions",
              "building_total_contributions",
              "building_name_contributions",
              "amenity_total_contributions",
              "amenity_name_contributions",
              "leisure_latest5_name_contributions",
              "building_latest5_name_contributions",
              "amenity_latest5_name_contributions",
              "leisure_name_tagChange_contributions",
              "building_name_tagChange_contributions",
              "amenity_name_tagChange_contributions",
              "leisure_users_count_name",
              "building_users_count_name",
              "amenity_users_count_name"
            ],
            "_view_count": null,
            "_view_module": "@jupyter-widgets/controls",
            "_view_module_version": "1.5.0",
            "_view_name": "SelectMultipleView",
            "description": "Independent Vars:",
            "description_tooltip": null,
            "disabled": false,
            "index": [],
            "layout": "IPY_MODEL_d86c76148ad4438fad4e56927c04cfb6",
            "rows": 5,
            "style": "IPY_MODEL_8a322b7dc8c14bf1bc344d2312e113e1"
          }
        },
        "f1f8100ba9d84486af9614e044933992": {
          "model_module": "@jupyter-widgets/base",
          "model_module_version": "1.2.0",
          "model_name": "LayoutModel",
          "state": {
            "_model_module": "@jupyter-widgets/base",
            "_model_module_version": "1.2.0",
            "_model_name": "LayoutModel",
            "_view_count": null,
            "_view_module": "@jupyter-widgets/base",
            "_view_module_version": "1.2.0",
            "_view_name": "LayoutView",
            "align_content": null,
            "align_items": null,
            "align_self": null,
            "border": null,
            "bottom": null,
            "display": null,
            "flex": null,
            "flex_flow": null,
            "grid_area": null,
            "grid_auto_columns": null,
            "grid_auto_flow": null,
            "grid_auto_rows": null,
            "grid_column": null,
            "grid_gap": null,
            "grid_row": null,
            "grid_template_areas": null,
            "grid_template_columns": null,
            "grid_template_rows": null,
            "height": null,
            "justify_content": null,
            "justify_items": null,
            "left": null,
            "margin": null,
            "max_height": null,
            "max_width": null,
            "min_height": null,
            "min_width": null,
            "object_fit": null,
            "object_position": null,
            "order": null,
            "overflow": null,
            "overflow_x": null,
            "overflow_y": null,
            "padding": null,
            "right": null,
            "top": null,
            "visibility": null,
            "width": null
          }
        },
        "f3b25b503e6c4abbbcd810e69b9b6dcc": {
          "model_module": "@jupyter-widgets/controls",
          "model_module_version": "1.5.0",
          "model_name": "DescriptionStyleModel",
          "state": {
            "_model_module": "@jupyter-widgets/controls",
            "_model_module_version": "1.5.0",
            "_model_name": "DescriptionStyleModel",
            "_view_count": null,
            "_view_module": "@jupyter-widgets/base",
            "_view_module_version": "1.2.0",
            "_view_name": "StyleView",
            "description_width": ""
          }
        },
        "fa5019c87b294aa2ae080fc3503bbe1c": {
          "model_module": "@jupyter-widgets/controls",
          "model_module_version": "1.5.0",
          "model_name": "DropdownModel",
          "state": {
            "_dom_classes": [],
            "_model_module": "@jupyter-widgets/controls",
            "_model_module_version": "1.5.0",
            "_model_name": "DropdownModel",
            "_options_labels": [
              "geometry",
              "id",
              "POP10",
              "leisure_total_count",
              "leisure_name_count",
              "leisure_name_ratio",
              "building_total_count",
              "building_name_count",
              "building_name_ratio",
              "amenity_total_count",
              "amenity_name_count",
              "amenity_name_ratio",
              "leisure_total_contributions",
              "leisure_name_contributions",
              "building_total_contributions",
              "building_name_contributions",
              "amenity_total_contributions",
              "amenity_name_contributions",
              "leisure_latest5_name_contributions",
              "building_latest5_name_contributions",
              "amenity_latest5_name_contributions",
              "leisure_name_tagChange_contributions",
              "building_name_tagChange_contributions",
              "amenity_name_tagChange_contributions",
              "leisure_users_count_name",
              "building_users_count_name",
              "amenity_users_count_name"
            ],
            "_view_count": null,
            "_view_module": "@jupyter-widgets/controls",
            "_view_module_version": "1.5.0",
            "_view_name": "DropdownView",
            "description": "Column:",
            "description_tooltip": null,
            "disabled": false,
            "index": 8,
            "layout": "IPY_MODEL_07f5d4315d124ebea7a49f15e896e37b",
            "style": "IPY_MODEL_703d58046caa4336913cf7087c8fe4c2"
          }
        },
        "fcf91005fd36462ba47650325f8bbca7": {
          "model_module": "@jupyter-widgets/base",
          "model_module_version": "1.2.0",
          "model_name": "LayoutModel",
          "state": {
            "_model_module": "@jupyter-widgets/base",
            "_model_module_version": "1.2.0",
            "_model_name": "LayoutModel",
            "_view_count": null,
            "_view_module": "@jupyter-widgets/base",
            "_view_module_version": "1.2.0",
            "_view_name": "LayoutView",
            "align_content": null,
            "align_items": null,
            "align_self": null,
            "border": null,
            "bottom": null,
            "display": null,
            "flex": null,
            "flex_flow": null,
            "grid_area": null,
            "grid_auto_columns": null,
            "grid_auto_flow": null,
            "grid_auto_rows": null,
            "grid_column": null,
            "grid_gap": null,
            "grid_row": null,
            "grid_template_areas": null,
            "grid_template_columns": null,
            "grid_template_rows": null,
            "height": null,
            "justify_content": null,
            "justify_items": null,
            "left": null,
            "margin": null,
            "max_height": null,
            "max_width": null,
            "min_height": null,
            "min_width": null,
            "object_fit": null,
            "object_position": null,
            "order": null,
            "overflow": null,
            "overflow_x": null,
            "overflow_y": null,
            "padding": null,
            "right": null,
            "top": null,
            "visibility": null,
            "width": null
          }
        },
        "ff49d9d9c6e243f4a58a70968841c944": {
          "model_module": "@jupyter-widgets/base",
          "model_module_version": "1.2.0",
          "model_name": "LayoutModel",
          "state": {
            "_model_module": "@jupyter-widgets/base",
            "_model_module_version": "1.2.0",
            "_model_name": "LayoutModel",
            "_view_count": null,
            "_view_module": "@jupyter-widgets/base",
            "_view_module_version": "1.2.0",
            "_view_name": "LayoutView",
            "align_content": null,
            "align_items": null,
            "align_self": null,
            "border": null,
            "bottom": null,
            "display": null,
            "flex": null,
            "flex_flow": null,
            "grid_area": null,
            "grid_auto_columns": null,
            "grid_auto_flow": null,
            "grid_auto_rows": null,
            "grid_column": null,
            "grid_gap": null,
            "grid_row": null,
            "grid_template_areas": null,
            "grid_template_columns": null,
            "grid_template_rows": null,
            "height": null,
            "justify_content": null,
            "justify_items": null,
            "left": null,
            "margin": null,
            "max_height": null,
            "max_width": null,
            "min_height": null,
            "min_width": null,
            "object_fit": null,
            "object_position": null,
            "order": null,
            "overflow": null,
            "overflow_x": null,
            "overflow_y": null,
            "padding": null,
            "right": null,
            "top": null,
            "visibility": null,
            "width": null
          }
        }
      }
    }
  },
  "nbformat": 4,
  "nbformat_minor": 0
}
